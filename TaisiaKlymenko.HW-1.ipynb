{
 "cells": [
  {
   "cell_type": "markdown",
   "metadata": {},
   "source": [
    "## 3"
   ]
  },
  {
   "cell_type": "markdown",
   "metadata": {},
   "source": [
    "Write a function that asks the user to enter a list of integers. Do the following:\n",
    "\n",
    "- Print the last item in the list.\n",
    "- Print the list in reverse order.\n",
    "- Print Yes if the list contains a 5 and No otherwise.\n",
    "- Print the number of fives in the list.\n",
    "- Remove the first and last items from the list, sort the remaining items, and print the result.\n",
    "- Print how many integers in the list are less than 5."
   ]
  },
  {
   "cell_type": "code",
   "execution_count": null,
   "metadata": {},
   "outputs": [],
   "source": [
    "def manipulate_integer_list():\n",
    "\n",
    "    input_str = input(\"Введіть список цілих чисел, розділених пробілами: \")\n",
    "    input_list = [int(x) for x in input_str.split()]\n",
    "    \n",
    "    print(\"Останній елемент у списку:\", input_list[-1])\n",
    "    \n",
    "    print(\"Список у зворотньому порядку:\", input_list[::-1])\n",
    "    \n",
    "    if 5 in input_list:\n",
    "        print(\"Так\")\n",
    "    else:\n",
    "        print(\"Ні\")\n",
    "    \n",
    "    count_of_fives = input_list.count(5)\n",
    "    print(\"Кількість п'ятірок у списку:\", count_of_fives)\n",
    "    \n",
    "    input_list = input_list[1:-1]\n",
    "    input_list.sort()\n",
    "    print(\"Список після видалення першого та останнього елементів і сортування:\", input_list)\n",
    "   \n",
    "    less_than_5_count = sum(1 for num in input_list if num < 5)\n",
    "    print(\"Кількість цілих чисел у списку, менших за 5:\", less_than_5_count)\n",
    "\n",
    "manipulate_integer_list()\n"
   ]
  },
  {
   "cell_type": "markdown",
   "metadata": {},
   "source": [
    "## 6"
   ]
  },
  {
   "cell_type": "markdown",
   "metadata": {},
   "source": [
    "Write a Python program that accepts an integer (n) and computes the value of n+nn+nnn"
   ]
  },
  {
   "cell_type": "code",
   "execution_count": 1,
   "metadata": {},
   "outputs": [
    {
     "name": "stdout",
     "output_type": "stream",
     "text": [
      "Результат 5 + 55 + 555 дорівнює 615\n"
     ]
    }
   ],
   "source": [
    "n = int(input(\"Введіть ціле число: \"))\n",
    "\n",
    "nn = int(str(n) + str(n))\n",
    "nnn = int(str(n) + str(n) + str(n))\n",
    "\n",
    "result = n + nn + nnn\n",
    "\n",
    "print(f\"Результат {n} + {nn} + {nnn} дорівнює {result}\")\n"
   ]
  },
  {
   "cell_type": "markdown",
   "metadata": {},
   "source": [
    "## 9"
   ]
  },
  {
   "cell_type": "markdown",
   "metadata": {},
   "source": [
    "Write a program that asks the user to enter an angle between -180° and 180°. Using an expression with the modulo operator, convert the angle to its equivalent between 0° and 360°."
   ]
  },
  {
   "cell_type": "code",
   "execution_count": 3,
   "metadata": {},
   "outputs": [
    {
     "name": "stdout",
     "output_type": "stream",
     "text": [
      "Еквівалентний кут від 0° до 360°: 315.0°\n"
     ]
    }
   ],
   "source": [
    "angle = float(input(\"Введіть кут між -180° і 180°: \"))\n",
    "angle %= 360\n",
    "\n",
    "print(f\"Еквівалентний кут від 0° до 360°: {angle}°\")\n"
   ]
  },
  {
   "cell_type": "markdown",
   "metadata": {},
   "source": [
    "## 12"
   ]
  },
  {
   "cell_type": "markdown",
   "metadata": {},
   "source": [
    "Write a program that asks the user how many credits they have taken. If they have taken 23 or less, print that the student is a freshman. If they have taken between 24 and 53, print that they are a sophomore. The range for juniors is 54 to 83, and for seniors it is 84 and over."
   ]
  },
  {
   "cell_type": "code",
   "execution_count": 4,
   "metadata": {},
   "outputs": [
    {
     "name": "stdout",
     "output_type": "stream",
     "text": [
      "Ви є студент третього курсу (джуніор).\n"
     ]
    }
   ],
   "source": [
    "kredyty = int(input(\"Скільки кредитів ви вже взяли? \"))\n",
    "\n",
    "if kredyty <= 23:\n",
    "    status = \"студент першого курсу (freshman)\"\n",
    "elif 24 <= kredyty <= 53:\n",
    "    status = \"студент другого курсу (sophomore)\"\n",
    "elif 54 <= kredyty <= 83:\n",
    "    status = \"студент третього курсу (junior)\"\n",
    "else:\n",
    "    status = \"студент четвертого курсу і старший (senior)\"\n",
    "\n",
    "print(f\"Ви є {status}.\")\n"
   ]
  },
  {
   "cell_type": "markdown",
   "metadata": {},
   "source": [
    "## 15"
   ]
  },
  {
   "cell_type": "markdown",
   "metadata": {},
   "source": [
    "A store charges \\\\$12 per item if you buy less than 10 items. If you buy between 10 and 99 items, the cost is \\\\$10 per item. If you buy 100 or more items, the cost is \\\\$7 per item. Write a program that asks the user how many items they are buying and prints the total cost."
   ]
  },
  {
   "cell_type": "code",
   "execution_count": null,
   "metadata": {},
   "outputs": [
    {
     "name": "stdout",
     "output_type": "stream",
     "text": [
      "Загальна вартість покупки: $440\n"
     ]
    }
   ],
   "source": [
    "kilkist_tovariv = int(input(\"Скільки товарів ви купуєте? \"))\n",
    "\n",
    "if kilkist_tovariv < 10:\n",
    "    vartist = kilkist_tovariv * 12\n",
    "elif 10 <= kilkist_tovariv < 100:\n",
    "    vartist = kilkist_tovariv * 10\n",
    "else:\n",
    "    vartist = kilkist_tovariv * 7\n",
    "\n",
    "print(f\"Загальна вартість покупки: ${vartist}\")\n"
   ]
  },
  {
   "cell_type": "markdown",
   "metadata": {},
   "source": [
    "## 18"
   ]
  },
  {
   "cell_type": "markdown",
   "metadata": {},
   "source": [
    "Write a function that reverse the tuple."
   ]
  },
  {
   "cell_type": "code",
   "execution_count": 5,
   "metadata": {},
   "outputs": [
    {
     "name": "stdout",
     "output_type": "stream",
     "text": [
      "Обернений кортеж: ('0', '1', '2', '3', '4', '5')\n"
     ]
    }
   ],
   "source": [
    "def reverse_tuple():\n",
    "    input_tuple = tuple(input(\"Введіть кортеж чисел розділених комою та пробілом (Наприклад: 1, 2, 3): \").split(', '))\n",
    "    return input_tuple[::-1]\n",
    "\n",
    "reversed_result = reverse_tuple()\n",
    "print(\"Обернений кортеж:\", reversed_result)\n"
   ]
  },
  {
   "cell_type": "markdown",
   "metadata": {},
   "source": [
    "## 21"
   ]
  },
  {
   "cell_type": "markdown",
   "metadata": {},
   "source": [
    "Calculate number of distinct characters in a string using a for loop."
   ]
  },
  {
   "cell_type": "code",
   "execution_count": 6,
   "metadata": {},
   "outputs": [
    {
     "name": "stdout",
     "output_type": "stream",
     "text": [
      "Кількість унікальних символів у рядку: 7\n"
     ]
    }
   ],
   "source": [
    "input_string = input(\"Введіть рядок: \")\n",
    "\n",
    "unique_characters = set()\n",
    "\n",
    "for char in input_string:\n",
    "    unique_characters.add(char)\n",
    "\n",
    "num_unique_characters = len(unique_characters)\n",
    "\n",
    "print(f\"Кількість унікальних символів у рядку: {num_unique_characters}\")\n"
   ]
  },
  {
   "cell_type": "markdown",
   "metadata": {},
   "source": [
    "## 24"
   ]
  },
  {
   "cell_type": "markdown",
   "metadata": {},
   "source": [
    "A simple way of encrypting a message is to rearrange its characters. One way to rearrange the characters is to pick out the characters at even indices, put them first in the encrypted string, and follow them by the odd characters. For example, the string message would be encrypted as msaeesg because the even characters are m, s, a, e (at indices 0, 2, 4, and 6) and the odd characters are e, s, g (at indices 1, 3, and 5).\n",
    "\n",
    "1. Write a function that asks the user for a string and uses this method to encrypt the string.\n",
    "\n",
    "2. Write a function that decrypts a string that was encrypted with this method."
   ]
  },
  {
   "cell_type": "markdown",
   "metadata": {},
   "source": [
    "#### 1"
   ]
  },
  {
   "cell_type": "code",
   "execution_count": 12,
   "metadata": {},
   "outputs": [],
   "source": [
    "def q24_1(word):\n",
    "    new = ''\n",
    "    for i in range(len(word)):\n",
    "        if i%2 == 0:\n",
    "            new += word[i]\n",
    "    for j in range(len(word)):\n",
    "        if j%2 == 1:\n",
    "            new += word[j]\n",
    "    return new\n"
   ]
  },
  {
   "cell_type": "markdown",
   "metadata": {},
   "source": [
    "#### 2"
   ]
  },
  {
   "cell_type": "code",
   "execution_count": null,
   "metadata": {},
   "outputs": [],
   "source": [
    "def q24_2(enscrypted):\n",
    "    old = ''\n",
    "    for i in range(len(enscrypted)):\n",
    "        if i%2==0:\n",
    "            old += enscrypted[i-round(i/2)]\n",
    "            print(i-i//2)\n",
    "        else:\n",
    "            print(i - i // 2 + round(len(enscrypted) / 2) + len(enscrypted) % 2 - 1)\n",
    "            old += enscrypted[i - i // 2 + round(len(enscrypted) / 2) + len(enscrypted) % 2 - 1]\n",
    "\n",
    "    return old"
   ]
  },
  {
   "cell_type": "markdown",
   "metadata": {},
   "source": [
    "## 27"
   ]
  },
  {
   "cell_type": "markdown",
   "metadata": {},
   "source": [
    "Given an array of integers nums and an integer target, return indices of the two numbers such that they add up to target.\n",
    "\n",
    "You may assume that each input would have exactly one solution, and you may not use the same element twice.\n",
    "\n",
    "*Example:*\n",
    "\n",
    "Input: nums = [1,8,12,5], target = 13\n",
    "\n",
    "Output: [8,5]\n",
    "\n",
    "Explanation: Because nums[1] + nums[3] == 13, we return [1, 3]."
   ]
  },
  {
   "cell_type": "code",
   "execution_count": null,
   "metadata": {},
   "outputs": [],
   "source": [
    "def q27(ints,target):\n",
    "    for i in range(len(ints)):\n",
    "        for j in range(len(ints)):\n",
    "            if i != j and ints[i]+ints[j]==target:\n",
    "                return [i,j]\n",
    "\n",
    "print(q27([1,8,12,5], 13))\n"
   ]
  },
  {
   "cell_type": "markdown",
   "metadata": {},
   "source": [
    "## 29"
   ]
  },
  {
   "cell_type": "markdown",
   "metadata": {},
   "source": [
    "Given an integer array $nums$, return all the triplets $[nums[i], nums[j], nums[k]]$ such that $i != j$, $i != k$, and $j != k$, and $nums[i] + nums[j] + nums[k] == 0.$\n",
    "\n",
    "*Example 1:*\n",
    "\n",
    "Input: nums = [-1,0,1,2,-1,-4]\n",
    "\n",
    "Output: [[-1,-1,2],[-1,0,1]]\n",
    "\n",
    "Explanation: \n",
    "\n",
    "nums[0] + nums[1] + nums[2] = (-1) + 0 + 1 = 0.\n",
    "\n",
    "nums[1] + nums[2] + nums[4] = 0 + 1 + (-1) = 0.\n",
    "\n",
    "nums[0] + nums[3] + nums[4] = (-1) + 2 + (-1) = 0.\n",
    "\n",
    "The distinct triplets are [-1,0,1] and [-1,-1,2]."
   ]
  },
  {
   "cell_type": "code",
   "execution_count": null,
   "metadata": {},
   "outputs": [],
   "source": [
    "def q29(integers):\n",
    "    res = []\n",
    "    for i in range(0,len(integers)):\n",
    "        for j in range(0, len(integers)):\n",
    "            for k in range(0, len(integers)):\n",
    "                if i != j and i != k and j != k and sum([integers[i],integers[j],integers[k]]) == 0:\n",
    "                    a = [integers[i], integers[j], integers[k]]\n",
    "                    a.sort()\n",
    "                    if a not in res or res == []:\n",
    "                        res.append(a)\n",
    "    return res"
   ]
  }
 ],
 "metadata": {
  "kernelspec": {
   "display_name": "Python 3",
   "language": "python",
   "name": "python3"
  },
  "language_info": {
   "codemirror_mode": {
    "name": "ipython",
    "version": 3
   },
   "file_extension": ".py",
   "mimetype": "text/x-python",
   "name": "python",
   "nbconvert_exporter": "python",
   "pygments_lexer": "ipython3",
   "version": "3.11.5"
  },
  "orig_nbformat": 4
 },
 "nbformat": 4,
 "nbformat_minor": 2
}
