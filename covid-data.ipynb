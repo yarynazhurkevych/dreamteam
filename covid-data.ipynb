{
 "cells": [
  {
   "cell_type": "code",
   "execution_count": 1,
   "id": "4d01c420",
   "metadata": {},
   "outputs": [],
   "source": [
    "import numpy as np\n",
    "import pandas as pd"
   ]
  },
  {
   "cell_type": "code",
   "execution_count": 2,
   "id": "444a8787",
   "metadata": {},
   "outputs": [
    {
     "data": {
      "text/html": [
       "<div>\n",
       "<style scoped>\n",
       "    .dataframe tbody tr th:only-of-type {\n",
       "        vertical-align: middle;\n",
       "    }\n",
       "\n",
       "    .dataframe tbody tr th {\n",
       "        vertical-align: top;\n",
       "    }\n",
       "\n",
       "    .dataframe thead th {\n",
       "        text-align: right;\n",
       "    }\n",
       "</style>\n",
       "<table border=\"1\" class=\"dataframe\">\n",
       "  <thead>\n",
       "    <tr style=\"text-align: right;\">\n",
       "      <th></th>\n",
       "      <th>index</th>\n",
       "      <th>iso_code</th>\n",
       "      <th>continent</th>\n",
       "      <th>location</th>\n",
       "      <th>date</th>\n",
       "      <th>total_cases</th>\n",
       "      <th>new_cases</th>\n",
       "      <th>new_cases_smoothed</th>\n",
       "      <th>total_deaths</th>\n",
       "      <th>new_deaths</th>\n",
       "      <th>...</th>\n",
       "      <th>male_smokers</th>\n",
       "      <th>handwashing_facilities</th>\n",
       "      <th>hospital_beds_per_thousand</th>\n",
       "      <th>life_expectancy</th>\n",
       "      <th>human_development_index</th>\n",
       "      <th>population</th>\n",
       "      <th>excess_mortality_cumulative_absolute</th>\n",
       "      <th>excess_mortality_cumulative</th>\n",
       "      <th>excess_mortality</th>\n",
       "      <th>excess_mortality_cumulative_per_million</th>\n",
       "    </tr>\n",
       "  </thead>\n",
       "  <tbody>\n",
       "    <tr>\n",
       "      <th>0</th>\n",
       "      <td>0</td>\n",
       "      <td>AFG</td>\n",
       "      <td>Asia</td>\n",
       "      <td>Afghanistan</td>\n",
       "      <td>2020-01-03</td>\n",
       "      <td>NaN</td>\n",
       "      <td>0.0</td>\n",
       "      <td>NaN</td>\n",
       "      <td>NaN</td>\n",
       "      <td>0.0</td>\n",
       "      <td>...</td>\n",
       "      <td>NaN</td>\n",
       "      <td>37.746</td>\n",
       "      <td>0.5</td>\n",
       "      <td>64.83</td>\n",
       "      <td>0.511</td>\n",
       "      <td>41128772.0</td>\n",
       "      <td>NaN</td>\n",
       "      <td>NaN</td>\n",
       "      <td>NaN</td>\n",
       "      <td>NaN</td>\n",
       "    </tr>\n",
       "    <tr>\n",
       "      <th>1</th>\n",
       "      <td>1</td>\n",
       "      <td>AFG</td>\n",
       "      <td>Asia</td>\n",
       "      <td>Afghanistan</td>\n",
       "      <td>2020-01-04</td>\n",
       "      <td>NaN</td>\n",
       "      <td>0.0</td>\n",
       "      <td>NaN</td>\n",
       "      <td>NaN</td>\n",
       "      <td>0.0</td>\n",
       "      <td>...</td>\n",
       "      <td>NaN</td>\n",
       "      <td>37.746</td>\n",
       "      <td>0.5</td>\n",
       "      <td>64.83</td>\n",
       "      <td>0.511</td>\n",
       "      <td>41128772.0</td>\n",
       "      <td>NaN</td>\n",
       "      <td>NaN</td>\n",
       "      <td>NaN</td>\n",
       "      <td>NaN</td>\n",
       "    </tr>\n",
       "    <tr>\n",
       "      <th>2</th>\n",
       "      <td>2</td>\n",
       "      <td>AFG</td>\n",
       "      <td>Asia</td>\n",
       "      <td>Afghanistan</td>\n",
       "      <td>2020-01-05</td>\n",
       "      <td>NaN</td>\n",
       "      <td>0.0</td>\n",
       "      <td>NaN</td>\n",
       "      <td>NaN</td>\n",
       "      <td>0.0</td>\n",
       "      <td>...</td>\n",
       "      <td>NaN</td>\n",
       "      <td>37.746</td>\n",
       "      <td>0.5</td>\n",
       "      <td>64.83</td>\n",
       "      <td>0.511</td>\n",
       "      <td>41128772.0</td>\n",
       "      <td>NaN</td>\n",
       "      <td>NaN</td>\n",
       "      <td>NaN</td>\n",
       "      <td>NaN</td>\n",
       "    </tr>\n",
       "    <tr>\n",
       "      <th>3</th>\n",
       "      <td>3</td>\n",
       "      <td>AFG</td>\n",
       "      <td>Asia</td>\n",
       "      <td>Afghanistan</td>\n",
       "      <td>2020-01-06</td>\n",
       "      <td>NaN</td>\n",
       "      <td>0.0</td>\n",
       "      <td>NaN</td>\n",
       "      <td>NaN</td>\n",
       "      <td>0.0</td>\n",
       "      <td>...</td>\n",
       "      <td>NaN</td>\n",
       "      <td>37.746</td>\n",
       "      <td>0.5</td>\n",
       "      <td>64.83</td>\n",
       "      <td>0.511</td>\n",
       "      <td>41128772.0</td>\n",
       "      <td>NaN</td>\n",
       "      <td>NaN</td>\n",
       "      <td>NaN</td>\n",
       "      <td>NaN</td>\n",
       "    </tr>\n",
       "    <tr>\n",
       "      <th>4</th>\n",
       "      <td>4</td>\n",
       "      <td>AFG</td>\n",
       "      <td>Asia</td>\n",
       "      <td>Afghanistan</td>\n",
       "      <td>2020-01-07</td>\n",
       "      <td>NaN</td>\n",
       "      <td>0.0</td>\n",
       "      <td>NaN</td>\n",
       "      <td>NaN</td>\n",
       "      <td>0.0</td>\n",
       "      <td>...</td>\n",
       "      <td>NaN</td>\n",
       "      <td>37.746</td>\n",
       "      <td>0.5</td>\n",
       "      <td>64.83</td>\n",
       "      <td>0.511</td>\n",
       "      <td>41128772.0</td>\n",
       "      <td>NaN</td>\n",
       "      <td>NaN</td>\n",
       "      <td>NaN</td>\n",
       "      <td>NaN</td>\n",
       "    </tr>\n",
       "    <tr>\n",
       "      <th>...</th>\n",
       "      <td>...</td>\n",
       "      <td>...</td>\n",
       "      <td>...</td>\n",
       "      <td>...</td>\n",
       "      <td>...</td>\n",
       "      <td>...</td>\n",
       "      <td>...</td>\n",
       "      <td>...</td>\n",
       "      <td>...</td>\n",
       "      <td>...</td>\n",
       "      <td>...</td>\n",
       "      <td>...</td>\n",
       "      <td>...</td>\n",
       "      <td>...</td>\n",
       "      <td>...</td>\n",
       "      <td>...</td>\n",
       "      <td>...</td>\n",
       "      <td>...</td>\n",
       "      <td>...</td>\n",
       "      <td>...</td>\n",
       "      <td>...</td>\n",
       "    </tr>\n",
       "    <tr>\n",
       "      <th>320267</th>\n",
       "      <td>320267</td>\n",
       "      <td>ZWE</td>\n",
       "      <td>Africa</td>\n",
       "      <td>Zimbabwe</td>\n",
       "      <td>2023-06-17</td>\n",
       "      <td>265289.0</td>\n",
       "      <td>0.0</td>\n",
       "      <td>18.286</td>\n",
       "      <td>5702.0</td>\n",
       "      <td>0.0</td>\n",
       "      <td>...</td>\n",
       "      <td>30.7</td>\n",
       "      <td>36.791</td>\n",
       "      <td>1.7</td>\n",
       "      <td>61.49</td>\n",
       "      <td>0.571</td>\n",
       "      <td>16320539.0</td>\n",
       "      <td>NaN</td>\n",
       "      <td>NaN</td>\n",
       "      <td>NaN</td>\n",
       "      <td>NaN</td>\n",
       "    </tr>\n",
       "    <tr>\n",
       "      <th>320268</th>\n",
       "      <td>320268</td>\n",
       "      <td>ZWE</td>\n",
       "      <td>Africa</td>\n",
       "      <td>Zimbabwe</td>\n",
       "      <td>2023-06-18</td>\n",
       "      <td>265289.0</td>\n",
       "      <td>0.0</td>\n",
       "      <td>18.286</td>\n",
       "      <td>5702.0</td>\n",
       "      <td>0.0</td>\n",
       "      <td>...</td>\n",
       "      <td>30.7</td>\n",
       "      <td>36.791</td>\n",
       "      <td>1.7</td>\n",
       "      <td>61.49</td>\n",
       "      <td>0.571</td>\n",
       "      <td>16320539.0</td>\n",
       "      <td>NaN</td>\n",
       "      <td>NaN</td>\n",
       "      <td>NaN</td>\n",
       "      <td>NaN</td>\n",
       "    </tr>\n",
       "    <tr>\n",
       "      <th>320269</th>\n",
       "      <td>320269</td>\n",
       "      <td>ZWE</td>\n",
       "      <td>Africa</td>\n",
       "      <td>Zimbabwe</td>\n",
       "      <td>2023-06-19</td>\n",
       "      <td>265413.0</td>\n",
       "      <td>124.0</td>\n",
       "      <td>17.714</td>\n",
       "      <td>5707.0</td>\n",
       "      <td>5.0</td>\n",
       "      <td>...</td>\n",
       "      <td>30.7</td>\n",
       "      <td>36.791</td>\n",
       "      <td>1.7</td>\n",
       "      <td>61.49</td>\n",
       "      <td>0.571</td>\n",
       "      <td>16320539.0</td>\n",
       "      <td>NaN</td>\n",
       "      <td>NaN</td>\n",
       "      <td>NaN</td>\n",
       "      <td>NaN</td>\n",
       "    </tr>\n",
       "    <tr>\n",
       "      <th>320270</th>\n",
       "      <td>320270</td>\n",
       "      <td>ZWE</td>\n",
       "      <td>Africa</td>\n",
       "      <td>Zimbabwe</td>\n",
       "      <td>2023-06-20</td>\n",
       "      <td>265413.0</td>\n",
       "      <td>NaN</td>\n",
       "      <td>NaN</td>\n",
       "      <td>5707.0</td>\n",
       "      <td>0.0</td>\n",
       "      <td>...</td>\n",
       "      <td>30.7</td>\n",
       "      <td>36.791</td>\n",
       "      <td>1.7</td>\n",
       "      <td>61.49</td>\n",
       "      <td>0.571</td>\n",
       "      <td>16320539.0</td>\n",
       "      <td>NaN</td>\n",
       "      <td>NaN</td>\n",
       "      <td>NaN</td>\n",
       "      <td>NaN</td>\n",
       "    </tr>\n",
       "    <tr>\n",
       "      <th>320271</th>\n",
       "      <td>320271</td>\n",
       "      <td>ZWE</td>\n",
       "      <td>Africa</td>\n",
       "      <td>Zimbabwe</td>\n",
       "      <td>2023-06-21</td>\n",
       "      <td>265413.0</td>\n",
       "      <td>NaN</td>\n",
       "      <td>NaN</td>\n",
       "      <td>5707.0</td>\n",
       "      <td>0.0</td>\n",
       "      <td>...</td>\n",
       "      <td>30.7</td>\n",
       "      <td>36.791</td>\n",
       "      <td>1.7</td>\n",
       "      <td>61.49</td>\n",
       "      <td>0.571</td>\n",
       "      <td>16320539.0</td>\n",
       "      <td>NaN</td>\n",
       "      <td>NaN</td>\n",
       "      <td>NaN</td>\n",
       "      <td>NaN</td>\n",
       "    </tr>\n",
       "  </tbody>\n",
       "</table>\n",
       "<p>320272 rows × 68 columns</p>\n",
       "</div>"
      ],
      "text/plain": [
       "         index iso_code continent     location        date  total_cases  \\\n",
       "0            0      AFG      Asia  Afghanistan  2020-01-03          NaN   \n",
       "1            1      AFG      Asia  Afghanistan  2020-01-04          NaN   \n",
       "2            2      AFG      Asia  Afghanistan  2020-01-05          NaN   \n",
       "3            3      AFG      Asia  Afghanistan  2020-01-06          NaN   \n",
       "4            4      AFG      Asia  Afghanistan  2020-01-07          NaN   \n",
       "...        ...      ...       ...          ...         ...          ...   \n",
       "320267  320267      ZWE    Africa     Zimbabwe  2023-06-17     265289.0   \n",
       "320268  320268      ZWE    Africa     Zimbabwe  2023-06-18     265289.0   \n",
       "320269  320269      ZWE    Africa     Zimbabwe  2023-06-19     265413.0   \n",
       "320270  320270      ZWE    Africa     Zimbabwe  2023-06-20     265413.0   \n",
       "320271  320271      ZWE    Africa     Zimbabwe  2023-06-21     265413.0   \n",
       "\n",
       "        new_cases  new_cases_smoothed  total_deaths  new_deaths  ...  \\\n",
       "0             0.0                 NaN           NaN         0.0  ...   \n",
       "1             0.0                 NaN           NaN         0.0  ...   \n",
       "2             0.0                 NaN           NaN         0.0  ...   \n",
       "3             0.0                 NaN           NaN         0.0  ...   \n",
       "4             0.0                 NaN           NaN         0.0  ...   \n",
       "...           ...                 ...           ...         ...  ...   \n",
       "320267        0.0              18.286        5702.0         0.0  ...   \n",
       "320268        0.0              18.286        5702.0         0.0  ...   \n",
       "320269      124.0              17.714        5707.0         5.0  ...   \n",
       "320270        NaN                 NaN        5707.0         0.0  ...   \n",
       "320271        NaN                 NaN        5707.0         0.0  ...   \n",
       "\n",
       "        male_smokers  handwashing_facilities  hospital_beds_per_thousand  \\\n",
       "0                NaN                  37.746                         0.5   \n",
       "1                NaN                  37.746                         0.5   \n",
       "2                NaN                  37.746                         0.5   \n",
       "3                NaN                  37.746                         0.5   \n",
       "4                NaN                  37.746                         0.5   \n",
       "...              ...                     ...                         ...   \n",
       "320267          30.7                  36.791                         1.7   \n",
       "320268          30.7                  36.791                         1.7   \n",
       "320269          30.7                  36.791                         1.7   \n",
       "320270          30.7                  36.791                         1.7   \n",
       "320271          30.7                  36.791                         1.7   \n",
       "\n",
       "        life_expectancy  human_development_index  population  \\\n",
       "0                 64.83                    0.511  41128772.0   \n",
       "1                 64.83                    0.511  41128772.0   \n",
       "2                 64.83                    0.511  41128772.0   \n",
       "3                 64.83                    0.511  41128772.0   \n",
       "4                 64.83                    0.511  41128772.0   \n",
       "...                 ...                      ...         ...   \n",
       "320267            61.49                    0.571  16320539.0   \n",
       "320268            61.49                    0.571  16320539.0   \n",
       "320269            61.49                    0.571  16320539.0   \n",
       "320270            61.49                    0.571  16320539.0   \n",
       "320271            61.49                    0.571  16320539.0   \n",
       "\n",
       "        excess_mortality_cumulative_absolute  excess_mortality_cumulative  \\\n",
       "0                                        NaN                          NaN   \n",
       "1                                        NaN                          NaN   \n",
       "2                                        NaN                          NaN   \n",
       "3                                        NaN                          NaN   \n",
       "4                                        NaN                          NaN   \n",
       "...                                      ...                          ...   \n",
       "320267                                   NaN                          NaN   \n",
       "320268                                   NaN                          NaN   \n",
       "320269                                   NaN                          NaN   \n",
       "320270                                   NaN                          NaN   \n",
       "320271                                   NaN                          NaN   \n",
       "\n",
       "        excess_mortality  excess_mortality_cumulative_per_million  \n",
       "0                    NaN                                      NaN  \n",
       "1                    NaN                                      NaN  \n",
       "2                    NaN                                      NaN  \n",
       "3                    NaN                                      NaN  \n",
       "4                    NaN                                      NaN  \n",
       "...                  ...                                      ...  \n",
       "320267               NaN                                      NaN  \n",
       "320268               NaN                                      NaN  \n",
       "320269               NaN                                      NaN  \n",
       "320270               NaN                                      NaN  \n",
       "320271               NaN                                      NaN  \n",
       "\n",
       "[320272 rows x 68 columns]"
      ]
     },
     "execution_count": 2,
     "metadata": {},
     "output_type": "execute_result"
    }
   ],
   "source": [
    "data = pd.read_csv('covid-data.csv')\n",
    "data"
   ]
  },
  {
   "cell_type": "markdown",
   "id": "135fb07a",
   "metadata": {},
   "source": [
    "1. Яка загальна кількість випадків Covid-19 у світі?"
   ]
  },
  {
   "cell_type": "code",
   "execution_count": 4,
   "id": "fa4cb2b3",
   "metadata": {},
   "outputs": [
    {
     "data": {
      "text/plain": [
       "1700886931193.0"
      ]
     },
     "execution_count": 4,
     "metadata": {},
     "output_type": "execute_result"
    }
   ],
   "source": [
    "data['total_cases'].sum()"
   ]
  },
  {
   "cell_type": "markdown",
   "id": "17b61a55",
   "metadata": {},
   "source": [
    "2. Яка середня кількість нових випадків на мільйон людей?"
   ]
  },
  {
   "cell_type": "code",
   "execution_count": 5,
   "id": "eae7c42d",
   "metadata": {},
   "outputs": [
    {
     "data": {
      "text/plain": [
       "158.00668302977743"
      ]
     },
     "execution_count": 5,
     "metadata": {},
     "output_type": "execute_result"
    }
   ],
   "source": [
    "data['new_cases_per_million'].mean()"
   ]
  },
  {
   "cell_type": "markdown",
   "id": "3f8b9b2d",
   "metadata": {},
   "source": [
    "3. У скількох країнах reproduction rate більше 2?"
   ]
  },
  {
   "cell_type": "code",
   "execution_count": 39,
   "id": "11666d17",
   "metadata": {},
   "outputs": [
    {
     "data": {
      "text/plain": [
       "97"
      ]
     },
     "execution_count": 39,
     "metadata": {},
     "output_type": "execute_result"
    }
   ],
   "source": [
    "reproduction = data[data['reproduction_rate'] > 2]['location'].unique()\n",
    "len(reproduction)"
   ]
  },
  {
   "cell_type": "markdown",
   "id": "86bd0e9d",
   "metadata": {},
   "source": [
    "4. У якій країні найвища надлишкова смертність (excess_mortality_cumulative_per_million) на мільйон осіб?"
   ]
  },
  {
   "cell_type": "code",
   "execution_count": 12,
   "id": "9f221f21",
   "metadata": {},
   "outputs": [
    {
     "data": {
      "text/plain": [
       "'Bulgaria'"
      ]
     },
     "execution_count": 12,
     "metadata": {},
     "output_type": "execute_result"
    }
   ],
   "source": [
    "highest_excess_mortality = data.loc[data['excess_mortality_cumulative_per_million'].idxmax(), 'location']\n",
    "highest_excess_mortality"
   ]
  },
  {
   "cell_type": "markdown",
   "id": "93d6cdd0",
   "metadata": {},
   "source": [
    "5. Скільки країн мають позитивний показник вище середньосвітового показника?"
   ]
  },
  {
   "cell_type": "code",
   "execution_count": 19,
   "id": "f4595db4",
   "metadata": {},
   "outputs": [
    {
     "data": {
      "text/plain": [
       "153"
      ]
     },
     "execution_count": 19,
     "metadata": {},
     "output_type": "execute_result"
    }
   ],
   "source": [
    "average = data['positive_rate'].mean()\n",
    "above_average = data[data['positive_rate'] > average]['location'].nunique()\n",
    "above_average"
   ]
  },
  {
   "cell_type": "markdown",
   "id": "42049c97",
   "metadata": {},
   "source": [
    "6. У скількох країнах загальна кількість смертей перевищує загальну кількість випадків?"
   ]
  },
  {
   "cell_type": "code",
   "execution_count": 23,
   "id": "2778e01e",
   "metadata": {},
   "outputs": [
    {
     "data": {
      "text/plain": [
       "28"
      ]
     },
     "execution_count": 23,
     "metadata": {},
     "output_type": "execute_result"
    }
   ],
   "source": [
    "deaths_greater_than_cases = data[data['total_deaths'] > data['total_cases']]['location'].nunique()\n",
    "deaths_greater_than_cases"
   ]
  },
  {
   "cell_type": "markdown",
   "id": "06e09a51",
   "metadata": {},
   "source": [
    "7. Яке середнє значення позитивних тестів для країн з населенням понад 1 мільйон?"
   ]
  },
  {
   "cell_type": "code",
   "execution_count": 59,
   "id": "3fc91116",
   "metadata": {},
   "outputs": [
    {
     "data": {
      "text/plain": [
       "0.10009453457384637"
      ]
     },
     "execution_count": 59,
     "metadata": {},
     "output_type": "execute_result"
    }
   ],
   "source": [
    "large_population = data[data['population'] > 1000000]\n",
    "average_positive = np.mean(large_population['positive_rate'])\n",
    "average_positive"
   ]
  },
  {
   "cell_type": "markdown",
   "id": "f62eae9e",
   "metadata": {},
   "source": [
    "8. Яка країна з найнижчим загальним співвідношенням тестів на випадок?"
   ]
  },
  {
   "cell_type": "code",
   "execution_count": 60,
   "id": "887c8a2a",
   "metadata": {},
   "outputs": [
    {
     "data": {
      "text/plain": [
       "'Canada'"
      ]
     },
     "execution_count": 60,
     "metadata": {},
     "output_type": "execute_result"
    }
   ],
   "source": [
    "data['tests_per_case'] = data['total_tests'] / data['total_cases']\n",
    "country_highest_tests_per_case_ratio = data.loc[data['tests_per_case'].idxmin()]['location']\n",
    "country_highest_tests_per_case_ratio"
   ]
  },
  {
   "cell_type": "markdown",
   "id": "8a53cf12",
   "metadata": {},
   "source": [
    "9. Яка загальна кількість проведених тестів на Covid-19 на тисячу людей для кожного континенту?"
   ]
  },
  {
   "cell_type": "code",
   "execution_count": 61,
   "id": "463cdd74",
   "metadata": {},
   "outputs": [
    {
     "data": {
      "text/plain": [
       "continent\n",
       "Africa           8.799107e+05\n",
       "Asia             1.598658e+07\n",
       "Europe           4.756787e+07\n",
       "North America    4.085786e+06\n",
       "Oceania          2.256870e+06\n",
       "South America    2.192770e+06\n",
       "Name: tests_per_thousand, dtype: float64"
      ]
     },
     "execution_count": 61,
     "metadata": {},
     "output_type": "execute_result"
    }
   ],
   "source": [
    "data['tests_per_thousand'] = data['total_tests'] / data['population'] * 1000\n",
    "total_tests_per_thousand = data.groupby('continent')['tests_per_thousand'].sum()\n",
    "total_tests_per_thousand"
   ]
  },
  {
   "cell_type": "markdown",
   "id": "a3731bf9",
   "metadata": {},
   "source": [
    "10. В якій країні найвищий відсоток повністю вакцинованих?"
   ]
  },
  {
   "cell_type": "code",
   "execution_count": 64,
   "id": "37a0b490",
   "metadata": {},
   "outputs": [
    {
     "data": {
      "text/plain": [
       "'Gibraltar'"
      ]
     },
     "execution_count": 64,
     "metadata": {},
     "output_type": "execute_result"
    }
   ],
   "source": [
    "country_highest_percentage_fully_vaccinated = data.loc[data['people_fully_vaccinated'].div(data['population']).idxmax()]['location']\n",
    "country_highest_percentage_fully_vaccinated"
   ]
  },
  {
   "cell_type": "code",
   "execution_count": null,
   "id": "5cac34b9",
   "metadata": {},
   "outputs": [],
   "source": []
  }
 ],
 "metadata": {
  "kernelspec": {
   "display_name": "Python 3 (ipykernel)",
   "language": "python",
   "name": "python3"
  },
  "language_info": {
   "codemirror_mode": {
    "name": "ipython",
    "version": 3
   },
   "file_extension": ".py",
   "mimetype": "text/x-python",
   "name": "python",
   "nbconvert_exporter": "python",
   "pygments_lexer": "ipython3",
   "version": "3.10.9"
  }
 },
 "nbformat": 4,
 "nbformat_minor": 5
}
