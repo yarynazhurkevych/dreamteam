{
 "cells": [
  {
   "cell_type": "markdown",
   "metadata": {
    "toc": true
   },
   "source": [
    "<h1>Table of Contents<span class=\"tocSkip\"></span></h1>\n",
    "<div class=\"toc\"><ul class=\"toc-item\"><li><span><a href=\"#Soring,-searching,-and-counting\" data-toc-modified-id=\"Soring,-searching,-and-counting-1\"><span class=\"toc-item-num\">1&nbsp;&nbsp;</span>Soring, searching, and counting</a></span><ul class=\"toc-item\"><li><span><a href=\"#Sorting\" data-toc-modified-id=\"Sorting-1.1\"><span class=\"toc-item-num\">1.1&nbsp;&nbsp;</span>Sorting</a></span></li><li><span><a href=\"#Searching\" data-toc-modified-id=\"Searching-1.2\"><span class=\"toc-item-num\">1.2&nbsp;&nbsp;</span>Searching</a></span></li><li><span><a href=\"#Counting\" data-toc-modified-id=\"Counting-1.3\"><span class=\"toc-item-num\">1.3&nbsp;&nbsp;</span>Counting</a></span></li></ul></li></ul></div>"
   ]
  },
  {
   "cell_type": "markdown",
   "metadata": {},
   "source": [
    "# Soring, searching, and counting"
   ]
  },
  {
   "cell_type": "code",
   "execution_count": 11,
   "metadata": {},
   "outputs": [],
   "source": [
    "import numpy as np"
   ]
  },
  {
   "cell_type": "markdown",
   "metadata": {},
   "source": [
    "## Sorting"
   ]
  },
  {
   "cell_type": "markdown",
   "metadata": {},
   "source": [
    "Q1. Sort x along the second axis."
   ]
  },
  {
   "cell_type": "code",
   "execution_count": 12,
   "metadata": {},
   "outputs": [
    {
     "name": "stdout",
     "output_type": "stream",
     "text": [
      "[[1 4]\n",
      " [1 3]]\n"
     ]
    }
   ],
   "source": [
    "x = np.array([[1,4],[3,1]])\n",
    "x.sort(axis=1)\n",
    "print(x)"
   ]
  },
  {
   "cell_type": "markdown",
   "metadata": {},
   "source": [
    "Q2. Sort pairs of surnames and first names and return their indices. (first by surname, then by name)."
   ]
  },
  {
   "cell_type": "code",
   "execution_count": 15,
   "metadata": {},
   "outputs": [
    {
     "name": "stdout",
     "output_type": "stream",
     "text": [
      "[1 0 2]\n"
     ]
    }
   ],
   "source": [
    "surnames =    ('Hertz',    'Galilei', 'Hertz')\n",
    "first_names = ('Heinrich', 'Galileo', 'Gustav')\n",
    "\n",
    "surname_indices = np.argsort(surnames)\n",
    "sorted_indices = np.argsort(surname_indices)\n",
    "\n",
    "print(sorted_indices)"
   ]
  },
  {
   "cell_type": "markdown",
   "metadata": {},
   "source": [
    "Q3. Get the indices that would sort x along the second axis."
   ]
  },
  {
   "cell_type": "code",
   "execution_count": 16,
   "metadata": {},
   "outputs": [
    {
     "name": "stdout",
     "output_type": "stream",
     "text": [
      "[[0 1]\n",
      " [1 0]]\n"
     ]
    }
   ],
   "source": [
    "x = np.array([[1,4],[3,1]])\n",
    "sorted_indices = np.argsort(x, axis=1)\n",
    "print(sorted_indices)"
   ]
  },
  {
   "cell_type": "markdown",
   "metadata": {},
   "source": [
    "Q4. Create an array such that its fifth element would be the same as the element of sorted x, and it divide other elements by their value."
   ]
  },
  {
   "cell_type": "code",
   "execution_count": 23,
   "metadata": {},
   "outputs": [
    {
     "name": "stdout",
     "output_type": "stream",
     "text": [
      "[1 5 6 9 3 4 8 0 2 7]\n",
      "[7 0 8 4 5 1 2 9 6 3]\n"
     ]
    }
   ],
   "source": [
    "x = np.random.permutation(10)\n",
    "print(x)\n",
    "\n",
    "sorted_indices = np.argsort(x)\n",
    "\n",
    "new_array = np.zeros_like(x)\n",
    "new_array[:4] = sorted_indices[:4]\n",
    "new_array[4] = sorted_indices[4]\n",
    "new_array[5:] = sorted_indices[5:]\n",
    "\n",
    "print(new_array)"
   ]
  },
  {
   "cell_type": "markdown",
   "metadata": {},
   "source": [
    "Q5. Create the indices of an array such that its third element would be the same as the element of sorted x, and it divide other elements by their value."
   ]
  },
  {
   "cell_type": "code",
   "execution_count": 27,
   "metadata": {},
   "outputs": [
    {
     "name": "stdout",
     "output_type": "stream",
     "text": [
      "[8 7 3 2 1 5 9 6 4 0]\n",
      "[3 5 2 7 6 4 9 0 1 8]\n",
      "[8 7 3 2 1 5 9 6 4 0]\n"
     ]
    }
   ],
   "source": [
    "x = np.random.permutation(10)\n",
    "print(x)\n",
    "\n",
    "sorted_indices = np.argsort(x)\n",
    "\n",
    "array = np.zeros_like(x)\n",
    "array[:3] = sorted_indices[:3]\n",
    "array[3] = sorted_indices[3]\n",
    "array[4:] = sorted_indices[4:]\n",
    "print(partitioned_array)\n",
    "\n",
    "indices = np.argsort(array)\n",
    "print(indices)"
   ]
  },
  {
   "cell_type": "markdown",
   "metadata": {},
   "source": [
    "## Searching"
   ]
  },
  {
   "cell_type": "markdown",
   "metadata": {},
   "source": [
    "Q6. Get the maximum and minimum values and their indices of x along the second axis."
   ]
  },
  {
   "cell_type": "code",
   "execution_count": 28,
   "metadata": {},
   "outputs": [
    {
     "name": "stdout",
     "output_type": "stream",
     "text": [
      "[[3 9 1 5 7]\n",
      " [2 8 6 4 0]]\n",
      "Maximum values:\n",
      "[9 8]\n",
      "Max indices:\n",
      "[1 1]\n",
      "Minimum values:\n",
      "[1 0]\n",
      "Min indices:\n",
      "[2 4]\n"
     ]
    }
   ],
   "source": [
    "x = np.random.permutation(10).reshape(2, 5)\n",
    "print(x)\n",
    "\n",
    "max_values = np.amax(x, axis=1)\n",
    "max_indices = np.argmax(x, axis=1)\n",
    "\n",
    "min_values = np.amin(x, axis=1)\n",
    "min_indices = np.argmin(x, axis=1)\n",
    "\n",
    "print(\"Maximum values:\")\n",
    "print(max_values)\n",
    "\n",
    "print(\"Max indices:\")\n",
    "print(max_indices)\n",
    "\n",
    "print(\"Minimum values:\")\n",
    "print(min_values)\n",
    "\n",
    "print(\"Min indices:\")\n",
    "print(min_indices)\n"
   ]
  },
  {
   "cell_type": "markdown",
   "metadata": {},
   "source": [
    "Q7. Get the maximum and minimum values and their indices of x along the second axis, ignoring NaNs."
   ]
  },
  {
   "cell_type": "code",
   "execution_count": 29,
   "metadata": {},
   "outputs": [
    {
     "name": "stdout",
     "output_type": "stream",
     "text": [
      "Maximum values ignoring NaNs:\n",
      "[4. 3.]\n",
      "Maximum indices:\n",
      "[1 0]\n",
      "Minimum values ignoring NaNs:\n",
      "[4. 2.]\n",
      "Minimum indices :\n",
      "[1 1]\n"
     ]
    }
   ],
   "source": [
    "x = np.array([[np.nan, 4], [3, 2]])\n",
    "\n",
    "max_values = np.nanmax(x, axis=1)\n",
    "max_indices = np.nanargmax(x, axis=1)\n",
    "\n",
    "min_values = np.nanmin(x, axis=1)\n",
    "min_indices = np.nanargmin(x, axis=1)\n",
    "\n",
    "print(\"Maximum values ignoring NaNs:\")\n",
    "print(max_values)\n",
    "\n",
    "print(\"Maximum indices:\")\n",
    "print(max_indices)\n",
    "\n",
    "print(\"Minimum values ignoring NaNs:\")\n",
    "print(min_values)\n",
    "\n",
    "print(\"Minimum indices :\")\n",
    "print(min_indices)\n"
   ]
  },
  {
   "cell_type": "markdown",
   "metadata": {},
   "source": [
    "Q8. Get the values and indices of the elements that are bigger than 2 in x.\n"
   ]
  },
  {
   "cell_type": "code",
   "execution_count": 31,
   "metadata": {},
   "outputs": [
    {
     "name": "stdout",
     "output_type": "stream",
     "text": [
      "Values bigger than 2:\n",
      "[3 3 5]\n",
      "Their indices are:\n",
      "(array([0, 1, 1], dtype=int64), array([2, 1, 2], dtype=int64))\n"
     ]
    }
   ],
   "source": [
    "x = np.array([[1, 2, 3], [1, 3, 5]])\n",
    "\n",
    "values_greater_than_2 = x[x > 2]\n",
    "indices_greater_than_2 = np.where(x > 2)\n",
    "\n",
    "print(\"Values bigger than 2:\")\n",
    "print(values_greater_than_2)\n",
    "\n",
    "print(\"Their indices are:\")\n",
    "print(indices_greater_than_2)\n"
   ]
  },
  {
   "cell_type": "markdown",
   "metadata": {},
   "source": [
    "Q9. Get the indices of the elements that are bigger than 2 in the flattend x."
   ]
  },
  {
   "cell_type": "code",
   "execution_count": 39,
   "metadata": {},
   "outputs": [
    {
     "name": "stdout",
     "output_type": "stream",
     "text": [
      "[0 1 2 3 4 5]\n"
     ]
    }
   ],
   "source": [
    "x = np.array([[1, 2, 3], [1, 3, 5]])\n",
    "indices = np.arange(x.size)\n",
    "print(indices)"
   ]
  },
  {
   "cell_type": "markdown",
   "metadata": {},
   "source": [
    "Q10. Check the elements of x and return 0 if it is less than 0, otherwise the element itself."
   ]
  },
  {
   "cell_type": "code",
   "execution_count": 40,
   "metadata": {},
   "outputs": [
    {
     "name": "stdout",
     "output_type": "stream",
     "text": [
      "[[0 0 0]\n",
      " [0 0 0]\n",
      " [1 2 3]]\n"
     ]
    }
   ],
   "source": [
    "x = np.arange(-5, 4).reshape(3, 3)\n",
    "result = np.where(x < 0, 0, x)\n",
    "print(result)"
   ]
  },
  {
   "cell_type": "markdown",
   "metadata": {},
   "source": [
    "Q11. Get the indices where elements of y should be inserted to x to maintain order."
   ]
  },
  {
   "cell_type": "code",
   "execution_count": 41,
   "metadata": {},
   "outputs": [
    {
     "name": "stdout",
     "output_type": "stream",
     "text": [
      "[0 2 1 3]\n"
     ]
    }
   ],
   "source": [
    "x = np.array([1, 3, 5, 7, 9])\n",
    "y = np.array([0, 4, 2, 6])\n",
    "\n",
    "indices = np.searchsorted(x, y)\n",
    "print(indices)"
   ]
  },
  {
   "cell_type": "markdown",
   "metadata": {},
   "source": [
    "## Counting"
   ]
  },
  {
   "cell_type": "markdown",
   "metadata": {},
   "source": [
    "Q12. Get the number of nonzero elements in x."
   ]
  },
  {
   "cell_type": "code",
   "execution_count": 42,
   "metadata": {},
   "outputs": [
    {
     "name": "stdout",
     "output_type": "stream",
     "text": [
      "5\n"
     ]
    }
   ],
   "source": [
    "x = np.array([[0, 1, 7, 0, 0], [3, 0, 0, 2, 19]])\n",
    "\n",
    "nonzero_count = np.count_nonzero(x)\n",
    "print(nonzero_count)"
   ]
  },
  {
   "cell_type": "code",
   "execution_count": null,
   "metadata": {
    "collapsed": true
   },
   "outputs": [],
   "source": []
  }
 ],
 "metadata": {
  "kernelspec": {
   "display_name": "Python 3 (ipykernel)",
   "language": "python",
   "name": "python3"
  },
  "language_info": {
   "codemirror_mode": {
    "name": "ipython",
    "version": 3
   },
   "file_extension": ".py",
   "mimetype": "text/x-python",
   "name": "python",
   "nbconvert_exporter": "python",
   "pygments_lexer": "ipython3",
   "version": "3.10.9"
  },
  "toc": {
   "base_numbering": 1,
   "nav_menu": {},
   "number_sections": true,
   "sideBar": true,
   "skip_h1_title": false,
   "title_cell": "Table of Contents",
   "title_sidebar": "Contents",
   "toc_cell": true,
   "toc_position": {},
   "toc_section_display": true,
   "toc_window_display": true
  }
 },
 "nbformat": 4,
 "nbformat_minor": 1
}
