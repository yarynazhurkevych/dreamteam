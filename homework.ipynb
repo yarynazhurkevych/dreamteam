{
 "cells": [
  {
   "cell_type": "markdown",
   "id": "2fd53323",
   "metadata": {
    "toc": true
   },
   "source": [
    "<h1>Table of Contents<span class=\"tocSkip\"></span></h1>\n",
    "<div class=\"toc\"><ul class=\"toc-item\"><li><span><a href=\"#Set-up\" data-toc-modified-id=\"Set-up-1\"><span class=\"toc-item-num\">1&nbsp;&nbsp;</span>Set up</a></span><ul class=\"toc-item\"><li><span><a href=\"#Question-1\" data-toc-modified-id=\"Question-1-1.1\"><span class=\"toc-item-num\">1.1&nbsp;&nbsp;</span>Question 1</a></span><ul class=\"toc-item\"><li><span><a href=\"#Answer\" data-toc-modified-id=\"Answer-1.1.1\"><span class=\"toc-item-num\">1.1.1&nbsp;&nbsp;</span>Answer</a></span></li></ul></li><li><span><a href=\"#Question-2\" data-toc-modified-id=\"Question-2-1.2\"><span class=\"toc-item-num\">1.2&nbsp;&nbsp;</span>Question 2</a></span><ul class=\"toc-item\"><li><span><a href=\"#Answer\" data-toc-modified-id=\"Answer-1.2.1\"><span class=\"toc-item-num\">1.2.1&nbsp;&nbsp;</span>Answer</a></span></li></ul></li><li><span><a href=\"#Question-3\" data-toc-modified-id=\"Question-3-1.3\"><span class=\"toc-item-num\">1.3&nbsp;&nbsp;</span>Question 3</a></span><ul class=\"toc-item\"><li><span><a href=\"#Answer\" data-toc-modified-id=\"Answer-1.3.1\"><span class=\"toc-item-num\">1.3.1&nbsp;&nbsp;</span>Answer</a></span></li></ul></li><li><span><a href=\"#Question-4\" data-toc-modified-id=\"Question-4-1.4\"><span class=\"toc-item-num\">1.4&nbsp;&nbsp;</span>Question 4</a></span><ul class=\"toc-item\"><li><span><a href=\"#Answer\" data-toc-modified-id=\"Answer-1.4.1\"><span class=\"toc-item-num\">1.4.1&nbsp;&nbsp;</span>Answer</a></span></li></ul></li><li><span><a href=\"#Question-5\" data-toc-modified-id=\"Question-5-1.5\"><span class=\"toc-item-num\">1.5&nbsp;&nbsp;</span>Question 5</a></span><ul class=\"toc-item\"><li><span><a href=\"#Answer\" data-toc-modified-id=\"Answer-1.5.1\"><span class=\"toc-item-num\">1.5.1&nbsp;&nbsp;</span>Answer</a></span></li></ul></li><li><span><a href=\"#Question-6\" data-toc-modified-id=\"Question-6-1.6\"><span class=\"toc-item-num\">1.6&nbsp;&nbsp;</span>Question 6</a></span><ul class=\"toc-item\"><li><span><a href=\"#Answer\" data-toc-modified-id=\"Answer-1.6.1\"><span class=\"toc-item-num\">1.6.1&nbsp;&nbsp;</span>Answer</a></span></li></ul></li><li><span><a href=\"#Question-7\" data-toc-modified-id=\"Question-7-1.7\"><span class=\"toc-item-num\">1.7&nbsp;&nbsp;</span>Question 7</a></span><ul class=\"toc-item\"><li><span><a href=\"#Answer\" data-toc-modified-id=\"Answer-1.7.1\"><span class=\"toc-item-num\">1.7.1&nbsp;&nbsp;</span>Answer</a></span></li></ul></li><li><span><a href=\"#Question-8\" data-toc-modified-id=\"Question-8-1.8\"><span class=\"toc-item-num\">1.8&nbsp;&nbsp;</span>Question 8</a></span><ul class=\"toc-item\"><li><span><a href=\"#Answer\" data-toc-modified-id=\"Answer-1.8.1\"><span class=\"toc-item-num\">1.8.1&nbsp;&nbsp;</span>Answer</a></span></li></ul></li><li><span><a href=\"#Question-9\" data-toc-modified-id=\"Question-9-1.9\"><span class=\"toc-item-num\">1.9&nbsp;&nbsp;</span>Question 9</a></span><ul class=\"toc-item\"><li><span><a href=\"#Answer\" data-toc-modified-id=\"Answer-1.9.1\"><span class=\"toc-item-num\">1.9.1&nbsp;&nbsp;</span>Answer</a></span></li></ul></li><li><span><a href=\"#Question-10\" data-toc-modified-id=\"Question-10-1.10\"><span class=\"toc-item-num\">1.10&nbsp;&nbsp;</span>Question 10</a></span><ul class=\"toc-item\"><li><span><a href=\"#Answer\" data-toc-modified-id=\"Answer-1.10.1\"><span class=\"toc-item-num\">1.10.1&nbsp;&nbsp;</span>Answer</a></span></li></ul></li><li><span><a href=\"#Question-11\" data-toc-modified-id=\"Question-11-1.11\"><span class=\"toc-item-num\">1.11&nbsp;&nbsp;</span>Question 11</a></span><ul class=\"toc-item\"><li><span><a href=\"#Answer\" data-toc-modified-id=\"Answer-1.11.1\"><span class=\"toc-item-num\">1.11.1&nbsp;&nbsp;</span>Answer</a></span></li></ul></li><li><span><a href=\"#Question-12\" data-toc-modified-id=\"Question-12-1.12\"><span class=\"toc-item-num\">1.12&nbsp;&nbsp;</span>Question 12</a></span><ul class=\"toc-item\"><li><span><a href=\"#Answer\" data-toc-modified-id=\"Answer-1.12.1\"><span class=\"toc-item-num\">1.12.1&nbsp;&nbsp;</span>Answer</a></span></li></ul></li><li><span><a href=\"#Question-13\" data-toc-modified-id=\"Question-13-1.13\"><span class=\"toc-item-num\">1.13&nbsp;&nbsp;</span>Question 13</a></span><ul class=\"toc-item\"><li><span><a href=\"#Answer\" data-toc-modified-id=\"Answer-1.13.1\"><span class=\"toc-item-num\">1.13.1&nbsp;&nbsp;</span>Answer</a></span></li></ul></li><li><span><a href=\"#Question-14\" data-toc-modified-id=\"Question-14-1.14\"><span class=\"toc-item-num\">1.14&nbsp;&nbsp;</span>Question 14</a></span><ul class=\"toc-item\"><li><span><a href=\"#Answer\" data-toc-modified-id=\"Answer-1.14.1\"><span class=\"toc-item-num\">1.14.1&nbsp;&nbsp;</span>Answer</a></span></li></ul></li><li><span><a href=\"#Question-15\" data-toc-modified-id=\"Question-15-1.15\"><span class=\"toc-item-num\">1.15&nbsp;&nbsp;</span>Question 15</a></span><ul class=\"toc-item\"><li><span><a href=\"#Answer\" data-toc-modified-id=\"Answer-1.15.1\"><span class=\"toc-item-num\">1.15.1&nbsp;&nbsp;</span>Answer</a></span></li></ul></li><li><span><a href=\"#Question-16\" data-toc-modified-id=\"Question-16-1.16\"><span class=\"toc-item-num\">1.16&nbsp;&nbsp;</span>Question 16</a></span><ul class=\"toc-item\"><li><span><a href=\"#Answer\" data-toc-modified-id=\"Answer-1.16.1\"><span class=\"toc-item-num\">1.16.1&nbsp;&nbsp;</span>Answer</a></span></li></ul></li><li><span><a href=\"#Question-17\" data-toc-modified-id=\"Question-17-1.17\"><span class=\"toc-item-num\">1.17&nbsp;&nbsp;</span>Question 17</a></span><ul class=\"toc-item\"><li><span><a href=\"#Answer\" data-toc-modified-id=\"Answer-1.17.1\"><span class=\"toc-item-num\">1.17.1&nbsp;&nbsp;</span>Answer</a></span></li></ul></li><li><span><a href=\"#Question-18\" data-toc-modified-id=\"Question-18-1.18\"><span class=\"toc-item-num\">1.18&nbsp;&nbsp;</span>Question 18</a></span><ul class=\"toc-item\"><li><span><a href=\"#Answer\" data-toc-modified-id=\"Answer-1.18.1\"><span class=\"toc-item-num\">1.18.1&nbsp;&nbsp;</span>Answer</a></span></li></ul></li><li><span><a href=\"#Question-19\" data-toc-modified-id=\"Question-19-1.19\"><span class=\"toc-item-num\">1.19&nbsp;&nbsp;</span>Question 19</a></span><ul class=\"toc-item\"><li><span><a href=\"#Answer\" data-toc-modified-id=\"Answer-1.19.1\"><span class=\"toc-item-num\">1.19.1&nbsp;&nbsp;</span>Answer</a></span></li></ul></li><li><span><a href=\"#Question-20\" data-toc-modified-id=\"Question-20-1.20\"><span class=\"toc-item-num\">1.20&nbsp;&nbsp;</span>Question 20</a></span><ul class=\"toc-item\"><li><span><a href=\"#Answer\" data-toc-modified-id=\"Answer-1.20.1\"><span class=\"toc-item-num\">1.20.1&nbsp;&nbsp;</span>Answer</a></span></li></ul></li><li><span><a href=\"#Question-21\" data-toc-modified-id=\"Question-21-1.21\"><span class=\"toc-item-num\">1.21&nbsp;&nbsp;</span>Question 21</a></span><ul class=\"toc-item\"><li><span><a href=\"#Answer\" data-toc-modified-id=\"Answer-1.21.1\"><span class=\"toc-item-num\">1.21.1&nbsp;&nbsp;</span>Answer</a></span></li></ul></li><li><span><a href=\"#Question-22\" data-toc-modified-id=\"Question-22-1.22\"><span class=\"toc-item-num\">1.22&nbsp;&nbsp;</span>Question 22</a></span><ul class=\"toc-item\"><li><span><a href=\"#Answer\" data-toc-modified-id=\"Answer-1.22.1\"><span class=\"toc-item-num\">1.22.1&nbsp;&nbsp;</span>Answer</a></span></li></ul></li><li><span><a href=\"#Question-23\" data-toc-modified-id=\"Question-23-1.23\"><span class=\"toc-item-num\">1.23&nbsp;&nbsp;</span>Question 23</a></span><ul class=\"toc-item\"><li><span><a href=\"#Answer\" data-toc-modified-id=\"Answer-1.23.1\"><span class=\"toc-item-num\">1.23.1&nbsp;&nbsp;</span>Answer</a></span></li></ul></li><li><span><a href=\"#Question-24\" data-toc-modified-id=\"Question-24-1.24\"><span class=\"toc-item-num\">1.24&nbsp;&nbsp;</span>Question 24</a></span><ul class=\"toc-item\"><li><span><a href=\"#Answer\" data-toc-modified-id=\"Answer-1.24.1\"><span class=\"toc-item-num\">1.24.1&nbsp;&nbsp;</span>Answer</a></span></li></ul></li><li><span><a href=\"#Question-25\" data-toc-modified-id=\"Question-25-1.25\"><span class=\"toc-item-num\">1.25&nbsp;&nbsp;</span>Question 25</a></span><ul class=\"toc-item\"><li><span><a href=\"#Answer\" data-toc-modified-id=\"Answer-1.25.1\"><span class=\"toc-item-num\">1.25.1&nbsp;&nbsp;</span>Answer</a></span></li></ul></li><li><span><a href=\"#Question-26\" data-toc-modified-id=\"Question-26-1.26\"><span class=\"toc-item-num\">1.26&nbsp;&nbsp;</span>Question 26</a></span><ul class=\"toc-item\"><li><span><a href=\"#Answer\" data-toc-modified-id=\"Answer-1.26.1\"><span class=\"toc-item-num\">1.26.1&nbsp;&nbsp;</span>Answer</a></span></li></ul></li><li><span><a href=\"#Question-27\" data-toc-modified-id=\"Question-27-1.27\"><span class=\"toc-item-num\">1.27&nbsp;&nbsp;</span>Question 27</a></span><ul class=\"toc-item\"><li><span><a href=\"#Answer\" data-toc-modified-id=\"Answer-1.27.1\"><span class=\"toc-item-num\">1.27.1&nbsp;&nbsp;</span>Answer</a></span></li></ul></li><li><span><a href=\"#Question-28\" data-toc-modified-id=\"Question-28-1.28\"><span class=\"toc-item-num\">1.28&nbsp;&nbsp;</span>Question 28</a></span><ul class=\"toc-item\"><li><span><a href=\"#Answer\" data-toc-modified-id=\"Answer-1.28.1\"><span class=\"toc-item-num\">1.28.1&nbsp;&nbsp;</span>Answer</a></span></li></ul></li><li><span><a href=\"#Question-29\" data-toc-modified-id=\"Question-29-1.29\"><span class=\"toc-item-num\">1.29&nbsp;&nbsp;</span>Question 29</a></span><ul class=\"toc-item\"><li><span><a href=\"#Answer\" data-toc-modified-id=\"Answer-1.29.1\"><span class=\"toc-item-num\">1.29.1&nbsp;&nbsp;</span>Answer</a></span></li></ul></li><li><span><a href=\"#Question-30\" data-toc-modified-id=\"Question-30-1.30\"><span class=\"toc-item-num\">1.30&nbsp;&nbsp;</span>Question 30</a></span><ul class=\"toc-item\"><li><span><a href=\"#Answer\" data-toc-modified-id=\"Answer-1.30.1\"><span class=\"toc-item-num\">1.30.1&nbsp;&nbsp;</span>Answer</a></span></li></ul></li></ul></li></ul></div>"
   ]
  },
  {
   "cell_type": "markdown",
   "id": "a976253a",
   "metadata": {},
   "source": [
    "# Set up\n",
    "\n",
    "**Jupyter Notebook** \n",
    "\n",
    "To Install the classic Jupyter Notebook, run in your terminal / command prompt:\n",
    "\n",
    "*pip install notebook*\n",
    "\n",
    "To run the notebook:\n",
    "\n",
    "*jupyter notebook*\n",
    "\n",
    "**JupyterLab**\n",
    "\n",
    "To Install JupyterLab with pip:\n",
    "\n",
    "*pip install jupyterlab*\n",
    "\n",
    "Once installed, launch JupyterLab with\n",
    "\n",
    "*jupyter lab*"
   ]
  },
  {
   "cell_type": "code",
   "execution_count": 1,
   "id": "e4dbce4d",
   "metadata": {},
   "outputs": [
    {
     "name": "stdout",
     "output_type": "stream",
     "text": [
      "sys.version_info(major=3, minor=10, micro=9, releaselevel='final', serial=0)\n",
      "version 3.10.9\n"
     ]
    }
   ],
   "source": [
    "import sys\n",
    "vv = sys.version_info\n",
    "print(vv)\n",
    "print('version ' + '.'.join([str(x) for x in vv[0:3]]))"
   ]
  },
  {
   "cell_type": "markdown",
   "id": "573058f1",
   "metadata": {},
   "source": [
    "##  Question 1"
   ]
  },
  {
   "cell_type": "markdown",
   "id": "b46d23d4",
   "metadata": {},
   "source": [
    "Write a print statement to print the mixed fraction 3 5/8 as a floating point number and as an integer."
   ]
  },
  {
   "cell_type": "markdown",
   "id": "cebe753d",
   "metadata": {},
   "source": [
    "### Answer"
   ]
  },
  {
   "cell_type": "code",
   "execution_count": null,
   "id": "2827841b",
   "metadata": {},
   "outputs": [],
   "source": [
    "mixed_fraction = 3 + 5/8\n",
    "print(float(mixed_fraction))\n",
    "\n",
    "integer = int(mixed_fraction)\n",
    "print(integer)"
   ]
  },
  {
   "cell_type": "markdown",
   "id": "f95d600d",
   "metadata": {},
   "source": [
    "##  Question 2"
   ]
  },
  {
   "cell_type": "markdown",
   "id": "d6144b32",
   "metadata": {},
   "source": [
    "**Convert Between °C and °F.** Convert temperatures from one system to another.\n",
    "- Create a print statement to convert 18.5° C to °F. \n",
    "- Create a print statement to convert -4° F to °C."
   ]
  },
  {
   "cell_type": "markdown",
   "id": "681343fa",
   "metadata": {},
   "source": [
    "### Answer"
   ]
  },
  {
   "cell_type": "markdown",
   "id": "12d64759",
   "metadata": {},
   "source": [
    "##  Question 3"
   ]
  },
  {
   "cell_type": "markdown",
   "id": "c688cde8",
   "metadata": {},
   "source": [
    "Write a function that asks the user to enter a list of integers. Do the following:\n",
    "\n",
    "- Print the last item in the list.\n",
    "- Print the list in reverse order.\n",
    "- Print Yes if the list contains a 5 and No otherwise.\n",
    "- Print the number of fives in the list.\n",
    "- Remove the first and last items from the list, sort the remaining items, and print the result.\n",
    "- Print how many integers in the list are less than 5."
   ]
  },
  {
   "cell_type": "markdown",
   "id": "0a7213bf",
   "metadata": {},
   "source": [
    "### Answer"
   ]
  },
  {
   "cell_type": "markdown",
   "id": "c7aeffb7",
   "metadata": {},
   "source": [
    "##  Question 4"
   ]
  },
  {
   "cell_type": "markdown",
   "id": "3c654cdc",
   "metadata": {},
   "source": [
    "Write a Python program which accepts the radius of a circle from the user and compute the area."
   ]
  },
  {
   "cell_type": "markdown",
   "id": "ded300d8",
   "metadata": {},
   "source": [
    "### Answer"
   ]
  },
  {
   "cell_type": "markdown",
   "id": "c23848c7",
   "metadata": {},
   "source": [
    "##  Question 5"
   ]
  },
  {
   "cell_type": "markdown",
   "id": "a73923cd",
   "metadata": {},
   "source": [
    "Write a Python program which accepts the user's first and last name and print them in reverse order with a space between them."
   ]
  },
  {
   "cell_type": "markdown",
   "id": "0f5569cb",
   "metadata": {},
   "source": [
    "### Answer"
   ]
  },
  {
   "cell_type": "code",
   "execution_count": null,
   "id": "077078c5",
   "metadata": {},
   "outputs": [],
   "source": [
    "first_name = input(\"Enter your first name: \")\n",
    "last_name = input(\"Enter your last name: \")\n",
    "\n",
    "print(f\"Your name in reversed order: {last_name} {first_name}\")"
   ]
  },
  {
   "cell_type": "markdown",
   "id": "75baf389",
   "metadata": {},
   "source": [
    "##  Question 6"
   ]
  },
  {
   "cell_type": "markdown",
   "id": "6fb6e3c9",
   "metadata": {},
   "source": [
    "Write a Python program that accepts an integer (n) and computes the value of n+nn+nnn"
   ]
  },
  {
   "cell_type": "markdown",
   "id": "361e661f",
   "metadata": {},
   "source": [
    "### Answer"
   ]
  },
  {
   "cell_type": "markdown",
   "id": "32f3e576",
   "metadata": {},
   "source": [
    "##  Question 7"
   ]
  },
  {
   "cell_type": "markdown",
   "id": "2cbb374c",
   "metadata": {},
   "source": [
    "A lot of cell phones have tip calculators. Write one. Ask the user for the price of the meal and the percent tip they want to leave. Then print both the tip amount and the total bill with the tip included."
   ]
  },
  {
   "cell_type": "markdown",
   "id": "4bd3c08b",
   "metadata": {},
   "source": [
    "### Answer"
   ]
  },
  {
   "cell_type": "markdown",
   "id": "d20ec66d",
   "metadata": {},
   "source": [
    "##  Question 8"
   ]
  },
  {
   "cell_type": "markdown",
   "id": "8ec7d50a",
   "metadata": {},
   "source": [
    "Write a program that asks the user to enter three numbers: the day of birth, the month of birth and the year of birth (use three separate input statements). Print out the total number of days from birth."
   ]
  },
  {
   "cell_type": "markdown",
   "id": "9e032847",
   "metadata": {},
   "source": [
    "### Answer"
   ]
  },
  {
   "cell_type": "markdown",
   "id": "130f9f3f",
   "metadata": {},
   "source": [
    "##  Question 9"
   ]
  },
  {
   "cell_type": "markdown",
   "id": "bb487099",
   "metadata": {},
   "source": [
    "Write a program that asks the user to enter an angle between -180° and 180°. Using an expression with the modulo operator, convert the angle to its equivalent between 0° and 360°."
   ]
  },
  {
   "cell_type": "markdown",
   "id": "0dd15256",
   "metadata": {},
   "source": [
    "### Answer"
   ]
  },
  {
   "cell_type": "code",
   "execution_count": null,
   "id": "47c4022c",
   "metadata": {},
   "outputs": [],
   "source": [
    "angle = float(input(\"Enter an angle between -180° and 180°: \"))\n",
    "\n",
    "angle %= 360\n",
    "\n",
    "if angle < 0:\n",
    "    angle += 360\n",
    "    \n",
    "print(f\"Equivalent angle between 0° and 360°: {angle}\")\n"
   ]
  },
  {
   "cell_type": "markdown",
   "id": "48b0e537",
   "metadata": {},
   "source": [
    "##  Question 10"
   ]
  },
  {
   "cell_type": "markdown",
   "id": "f54a3581",
   "metadata": {},
   "source": [
    "Write a program that generates a random decimal number between 1 and 10 with two decimal places of accuracy."
   ]
  },
  {
   "cell_type": "markdown",
   "id": "33ba4e87",
   "metadata": {},
   "source": [
    "### Answer"
   ]
  },
  {
   "cell_type": "markdown",
   "id": "fc111e34",
   "metadata": {},
   "source": [
    "##  Question 11"
   ]
  },
  {
   "cell_type": "markdown",
   "id": "31ce21a3",
   "metadata": {},
   "source": [
    "Write a program that asks the user to enter a power (non-negative integer number). Then find the last two digits of 2 raised to that power."
   ]
  },
  {
   "cell_type": "markdown",
   "id": "ed983890",
   "metadata": {},
   "source": [
    "### Answer"
   ]
  },
  {
   "cell_type": "markdown",
   "id": "2274add3",
   "metadata": {},
   "source": [
    "##  Question 12"
   ]
  },
  {
   "cell_type": "markdown",
   "id": "22250473",
   "metadata": {},
   "source": [
    "Write a program that asks the user how many credits they have taken. If they have taken 23 or less, print that the student is a freshman. If they have taken between 24 and 53, print that they are a sophomore. The range for juniors is 54 to 83, and for seniors it is 84 and over."
   ]
  },
  {
   "cell_type": "markdown",
   "id": "558215b3",
   "metadata": {},
   "source": [
    "### Answer"
   ]
  },
  {
   "cell_type": "markdown",
   "id": "35fd7661",
   "metadata": {},
   "source": [
    "##  Question 13"
   ]
  },
  {
   "cell_type": "markdown",
   "id": "33b49de2",
   "metadata": {},
   "source": [
    "Write a program that asks the user to enter a length in centimeters. If the user enters a negative length, the program should tell the user that the entry is invalid. Otherwise, the program should convert the length to inches and print out the result. There are 2.54 centimeters in an inch."
   ]
  },
  {
   "cell_type": "markdown",
   "id": "d2c6af21",
   "metadata": {},
   "source": [
    "### Answer"
   ]
  },
  {
   "cell_type": "code",
   "execution_count": null,
   "id": "a7e6c7c3",
   "metadata": {},
   "outputs": [],
   "source": [
    "length_in_cm = float(input(\"Enter a length in centimeters: \"))\n",
    "\n",
    "if length_in_cm < 0:\n",
    "    print(\"The entry is invalid\")\n",
    "else:\n",
    "    length_in_inches = length_in_cm / 2.54\n",
    "    print(f\"Length in inches: {length_in_inches}\")"
   ]
  },
  {
   "cell_type": "markdown",
   "id": "692d6865",
   "metadata": {},
   "source": [
    "##  Question 14"
   ]
  },
  {
   "cell_type": "markdown",
   "id": "9e7cd44c",
   "metadata": {},
   "source": [
    "Write a program that lets the user play Rock-Paper-Scissors against the computer. There should be three rounds, and after those three rounds, your program should print out who won and lost or that there is a tie."
   ]
  },
  {
   "cell_type": "markdown",
   "id": "37c36c57",
   "metadata": {},
   "source": [
    "### Answer"
   ]
  },
  {
   "cell_type": "markdown",
   "id": "b224d1b3",
   "metadata": {},
   "source": [
    "##  Question 15"
   ]
  },
  {
   "cell_type": "markdown",
   "id": "3852288c",
   "metadata": {},
   "source": [
    "A store charges \\\\$12 per item if you buy less than 10 items. If you buy between 10 and 99 items, the cost is \\\\$10 per item. If you buy 100 or more items, the cost is \\\\$7 per item. Write a program that asks the user how many items they are buying and prints the total cost."
   ]
  },
  {
   "cell_type": "markdown",
   "id": "62c5e5c5",
   "metadata": {},
   "source": [
    "### Answer"
   ]
  },
  {
   "cell_type": "markdown",
   "id": "1da7280c",
   "metadata": {},
   "source": [
    "##  Question 16"
   ]
  },
  {
   "cell_type": "markdown",
   "id": "0a46f295",
   "metadata": {},
   "source": [
    "John has 300 at the start, he saves 100 per month, and 500 every 6 months. Write a function returning his savings after N months. (N is an input from the user)"
   ]
  },
  {
   "cell_type": "markdown",
   "id": "9c58d74d",
   "metadata": {},
   "source": [
    "### Answer"
   ]
  },
  {
   "cell_type": "markdown",
   "id": "1fc69436",
   "metadata": {},
   "source": [
    "##  Question 17"
   ]
  },
  {
   "cell_type": "markdown",
   "id": "c74efb86",
   "metadata": {},
   "source": [
    "Calculate number of business days between two dates using datetime module."
   ]
  },
  {
   "cell_type": "markdown",
   "id": "91bc2e3c",
   "metadata": {},
   "source": [
    "### Answer"
   ]
  },
  {
   "cell_type": "code",
   "execution_count": null,
   "id": "afa7cdff",
   "metadata": {},
   "outputs": [],
   "source": [
    "from datetime import date, timedelta\n",
    "\n",
    "def count_business_days(start_date, end_date):\n",
    "    weekdays = {0, 1, 2, 3, 4}\n",
    "    \n",
    "    business_day_count = 0\n",
    "\n",
    "    current_date = start_date\n",
    "    while current_date <= end_date:\n",
    "        if current_date.weekday() in weekdays:\n",
    "            business_day_count += 1\n",
    "        current_date += timedelta(days=1)\n",
    "    \n",
    "    return business_day_count\n",
    "\n",
    "\n",
    "start_date = date(2022, 9, 22)\n",
    "end_date = date(2022, 10, 5)\n",
    "\n",
    "result = count_business_days(start_date, end_date)\n",
    "print(\"Number of business days:\", result)"
   ]
  },
  {
   "cell_type": "markdown",
   "id": "fc435814",
   "metadata": {},
   "source": [
    "## Question 18"
   ]
  },
  {
   "cell_type": "markdown",
   "id": "797581d5",
   "metadata": {},
   "source": [
    "Write a function that reverse the tuple."
   ]
  },
  {
   "cell_type": "markdown",
   "id": "494255e2",
   "metadata": {},
   "source": [
    "### Answer"
   ]
  },
  {
   "cell_type": "markdown",
   "id": "6b7683fe",
   "metadata": {},
   "source": [
    "## Question 19"
   ]
  },
  {
   "cell_type": "markdown",
   "id": "7afb0baf",
   "metadata": {},
   "source": [
    "Sort a tuple of tuples by 2nd item. For example, the output for the tuple $(('a', 23),('b', 37),('c', 11), ('d',29))$ should be $(('c', 11), ('a', 23), ('d', 29), ('b', 37))$"
   ]
  },
  {
   "cell_type": "markdown",
   "id": "78e54090",
   "metadata": {},
   "source": [
    "### Answer"
   ]
  },
  {
   "cell_type": "markdown",
   "id": "026bcacf",
   "metadata": {},
   "source": [
    "## Question 20"
   ]
  },
  {
   "cell_type": "markdown",
   "id": "e6364522",
   "metadata": {},
   "source": [
    "Write a function that removes empty strings from the list of strings."
   ]
  },
  {
   "cell_type": "markdown",
   "id": "0a255e09",
   "metadata": {},
   "source": [
    "### Answer"
   ]
  },
  {
   "cell_type": "markdown",
   "id": "98967b66",
   "metadata": {},
   "source": [
    "## Question 21"
   ]
  },
  {
   "cell_type": "markdown",
   "id": "2274ae8d",
   "metadata": {},
   "source": [
    "Calculate number of distinct characters in a string using a for loop."
   ]
  },
  {
   "cell_type": "markdown",
   "id": "0bab76a2",
   "metadata": {},
   "source": [
    "### Answer"
   ]
  },
  {
   "cell_type": "code",
   "execution_count": null,
   "id": "12feb406",
   "metadata": {},
   "outputs": [],
   "source": [
    "string = input(\"Enter a string: \")\n",
    "\n",
    "distinct_characters = []\n",
    "\n",
    "for char in string:\n",
    "    if char not in distinct_characters:\n",
    "        distinct_characters.append(char)\n",
    "        \n",
    "num_of_distinct_characters = len(distinct_characters)\n",
    "\n",
    "print(f\"Number of distinct characters in the string: {num_of_distinct_characters}\")\n"
   ]
  },
  {
   "cell_type": "markdown",
   "id": "1e5777c0",
   "metadata": {},
   "source": [
    "## Question 22"
   ]
  },
  {
   "cell_type": "markdown",
   "id": "cce6010e",
   "metadata": {},
   "source": [
    "You are given an array prices where $prices[i]$ is the price of a given stock on the $i$th day.\n",
    "\n",
    "You want to maximize your profit by choosing a single day to buy one stock and choosing a different day in the future to sell that stock.\n",
    "\n",
    "Return the maximum profit you can achieve from this transaction. If you cannot achieve any profit, return $0$.\n",
    "\n",
    "*Example 1:*\n",
    "\n",
    "Input: prices = [7,1,5,3,6,4]\n",
    "\n",
    "Output: 5\n",
    "\n",
    "Explanation: Buy on day 2 (price = 1) and sell on day 5 (price = 6), profit = 6-1 = 5.\n",
    "Note that buying on day 2 and selling on day 1 is not allowed because you must buy before you sell."
   ]
  },
  {
   "cell_type": "markdown",
   "id": "668dee3e",
   "metadata": {},
   "source": [
    "### Answer"
   ]
  },
  {
   "cell_type": "markdown",
   "id": "4c03bf98",
   "metadata": {},
   "source": [
    "## Question 23\n",
    "\n",
    "Write a program to find the key of the maximum value in a dictionary. \n",
    "\n",
    "Example: original dictionary elements:\n",
    "\n",
    "{'a': 25, 'b': 48, 'c': 90, 'd': 5, 'e':90}\n",
    "\n",
    "Finds the keys of the maximum value of the said dictionary:\n",
    "\n",
    "['c','e']"
   ]
  },
  {
   "cell_type": "markdown",
   "id": "bb81eacf",
   "metadata": {},
   "source": [
    "### Answer"
   ]
  },
  {
   "cell_type": "markdown",
   "id": "df28ba15",
   "metadata": {},
   "source": [
    "## Question 24\n",
    "\n",
    "A simple way of encrypting a message is to rearrange its characters. One way to rearrange the characters is to pick out the characters at even indices, put them first in the encrypted string, and follow them by the odd characters. For example, the string message would be encrypted as msaeesg because the even characters are m, s, a, e (at indices 0, 2, 4, and 6) and the odd characters are e, s, g (at indices 1, 3, and 5).\n",
    "\n",
    "1. Write a function that asks the user for a string and uses this method to encrypt the string.\n",
    "\n",
    "2. Write a function that decrypts a string that was encrypted with this method."
   ]
  },
  {
   "cell_type": "markdown",
   "id": "0db2effb",
   "metadata": {},
   "source": [
    "### Answer"
   ]
  },
  {
   "cell_type": "markdown",
   "id": "1c38b628",
   "metadata": {},
   "source": [
    "## Question 25\n",
    "\n",
    "Write a function that for 2 given dictionaries find their common keys."
   ]
  },
  {
   "cell_type": "markdown",
   "id": "093a86f3",
   "metadata": {},
   "source": [
    "### Answer"
   ]
  },
  {
   "cell_type": "code",
   "execution_count": null,
   "id": "b77ee55a",
   "metadata": {},
   "outputs": [],
   "source": [
    "def find_common_keys(dict1, dict2):\n",
    "    common_keys = []\n",
    "    \n",
    "    for key in dict1.keys():\n",
    "        if key in dict2:\n",
    "            common_keys.append(key)\n",
    "        \n",
    "    return common_keys\n",
    "\n",
    "dict1 = {'a': 1, 'b': 2, 'c': 3}\n",
    "dict2 = {'b': 4, 'a': 5, 'd': 2}\n",
    "\n",
    "\n",
    "common_keys = find_common_keys(dict1, dict2)\n",
    "\n",
    "\n",
    "print(f\"Common keys: {common_keys}\")\n"
   ]
  },
  {
   "cell_type": "markdown",
   "id": "590f8c61",
   "metadata": {},
   "source": [
    "## Question 26\n",
    "\n",
    "Given two strings $s$ and $t$, return *True* if $t$ is an anagram of $s$, and False otherwise.\n",
    "\n",
    "An Anagram is a word or phrase formed by rearranging the letters of a different word or phrase, typically using all the original letters exactly once."
   ]
  },
  {
   "cell_type": "markdown",
   "id": "10d52659",
   "metadata": {},
   "source": [
    "### Answer"
   ]
  },
  {
   "cell_type": "markdown",
   "id": "1be64bfe",
   "metadata": {},
   "source": [
    "## Question 27\n",
    "\n",
    "Given an array of integers nums and an integer target, return indices of the two numbers such that they add up to target.\n",
    "\n",
    "You may assume that each input would have exactly one solution, and you may not use the same element twice.\n",
    "\n",
    "*Example:*\n",
    "\n",
    "Input: nums = [1,8,12,5], target = 13\n",
    "\n",
    "Output: [8,5]\n",
    "\n",
    "Explanation: Because nums[1] + nums[3] == 13, we return [1, 3]."
   ]
  },
  {
   "cell_type": "markdown",
   "id": "0c4264ca",
   "metadata": {},
   "source": [
    "### Answer"
   ]
  },
  {
   "cell_type": "markdown",
   "id": "95206bbd",
   "metadata": {},
   "source": [
    "## Question 28\n",
    "\n",
    "Given an integer array nums and an integer $k$, return the $k$ most frequent elements.\n",
    "\n",
    "*Example 1:*\n",
    "\n",
    "Input: nums = [1,1,1,2,2,3], k = 2\n",
    "\n",
    "Output: [1,2]"
   ]
  },
  {
   "cell_type": "markdown",
   "id": "c1953375",
   "metadata": {},
   "source": [
    "### Answer"
   ]
  },
  {
   "cell_type": "markdown",
   "id": "9f13d3ca",
   "metadata": {},
   "source": [
    "## Question 29\n",
    "\n",
    "Given an integer array $nums$, return all the triplets $[nums[i], nums[j], nums[k]]$ such that $i != j$, $i != k$, and $j != k$, and $nums[i] + nums[j] + nums[k] == 0.$\n",
    "\n",
    "*Example 1:*\n",
    "\n",
    "Input: nums = [-1,0,1,2,-1,-4]\n",
    "\n",
    "Output: [[-1,-1,2],[-1,0,1]]\n",
    "\n",
    "Explanation: \n",
    "\n",
    "nums[0] + nums[1] + nums[2] = (-1) + 0 + 1 = 0.\n",
    "\n",
    "nums[1] + nums[2] + nums[4] = 0 + 1 + (-1) = 0.\n",
    "\n",
    "nums[0] + nums[3] + nums[4] = (-1) + 2 + (-1) = 0.\n",
    "\n",
    "The distinct triplets are [-1,0,1] and [-1,-1,2]."
   ]
  },
  {
   "cell_type": "markdown",
   "id": "c34b5f25",
   "metadata": {},
   "source": [
    "### Answer"
   ]
  },
  {
   "cell_type": "code",
   "execution_count": null,
   "id": "c21d8a92",
   "metadata": {},
   "outputs": [],
   "source": [
    "def three_sum(nums):\n",
    "    nums.sort()  \n",
    "    triplets = []\n",
    "\n",
    "    for i in range(len(nums) - 2):\n",
    "        if i > 0 and nums[i] == nums[i - 1]:\n",
    "            continue  \n",
    "        \n",
    "        left, right = i + 1, len(nums) - 1\n",
    "        \n",
    "        while left < right:\n",
    "            total = nums[i] + nums[left] + nums[right]\n",
    "            \n",
    "            if total == 0:\n",
    "                triplets.append([nums[i], nums[left], nums[right]])\n",
    "                while left < right and nums[left] == nums[left + 1]:\n",
    "                    left += 1  \n",
    "                while left < right and nums[right] == nums[right - 1]:\n",
    "                    right -= 1  \n",
    "                left += 1\n",
    "                right -= 1\n",
    "            elif total < 0:\n",
    "                left += 1\n",
    "            else:\n",
    "                right -= 1\n",
    "    \n",
    "    return triplets\n",
    "\n",
    "\n",
    "nums = [-1, 0, 1, 2, -1, -4]\n",
    "result = three_sum(nums)\n",
    "print(result)  "
   ]
  },
  {
   "cell_type": "markdown",
   "id": "09ad72f0",
   "metadata": {},
   "source": [
    "## Question 30\n",
    "\n",
    "You are given an $m x n$ integer matrix matrix with the following two properties:\n",
    "\n",
    "- Each row is sorted in non-decreasing order.\n",
    "\n",
    "- The first integer of each row is greater than the last integer of the previous row.\n",
    "\n",
    "Given an integer target, return True if target is in matrix or false otherwise.\n",
    "\n",
    "You must write a solution in $O(log(m * n))$ time complexity.\n",
    "\n",
    "*Example:*\n",
    "\n",
    "Input: matrix = [[1,3,5,7],[10,11,16,20],[23,30,34,60]], target = 3\n",
    "\n",
    "Output: true"
   ]
  },
  {
   "cell_type": "code",
   "execution_count": 4,
   "id": "89c7f04f",
   "metadata": {},
   "outputs": [
    {
     "data": {
      "image/jpeg": "[encoded data removed]",
      "text/plain": [
       "<IPython.core.display.Image object>"
      ]
     },
     "execution_count": 4,
     "metadata": {},
     "output_type": "execute_result"
    }
   ],
   "source": [
    "from IPython.display import Image\n",
    "Image(\"mat.jpg\")"
   ]
  },
  {
   "cell_type": "markdown",
   "id": "d3731ed4",
   "metadata": {},
   "source": [
    "### Answer"
   ]
  },
  {
   "cell_type": "code",
   "execution_count": null,
   "id": "ba78b6d5",
   "metadata": {},
   "outputs": [],
   "source": []
  }
 ],
 "metadata": {
  "kernelspec": {
   "display_name": "Python 3 (ipykernel)",
   "language": "python",
   "name": "python3"
  },
  "language_info": {
   "codemirror_mode": {
    "name": "ipython",
    "version": 3
   },
   "file_extension": ".py",
   "mimetype": "text/x-python",
   "name": "python",
   "nbconvert_exporter": "python",
   "pygments_lexer": "ipython3",
   "version": "3.10.9"
  },
  "toc": {
   "base_numbering": 1,
   "nav_menu": {},
   "number_sections": true,
   "sideBar": true,
   "skip_h1_title": false,
   "title_cell": "Table of Contents",
   "title_sidebar": "Contents",
   "toc_cell": true,
   "toc_position": {},
   "toc_section_display": true,
   "toc_window_display": true
  }
 },
 "nbformat": 4,
 "nbformat_minor": 5
}
