{
  "metadata": {
    "toc": {
      "base_numbering": 1,
      "nav_menu": {},
      "number_sections": true,
      "sideBar": true,
      "skip_h1_title": false,
      "title_cell": "Table of Contents",
      "title_sidebar": "Contents",
      "toc_cell": true,
      "toc_position": {},
      "toc_section_display": true,
      "toc_window_display": true
    },
    "kernelspec": {
      "name": "python",
      "display_name": "Python (Pyodide)",
      "language": "python"
    },
    "language_info": {
      "codemirror_mode": {
        "name": "python",
        "version": 3
      },
      "file_extension": ".py",
      "mimetype": "text/x-python",
      "name": "python",
      "nbconvert_exporter": "python",
      "pygments_lexer": "ipython3",
      "version": "3.8"
    }
  },
  "nbformat_minor": 5,
  "nbformat": 4,
  "cells": [
    {
      "cell_type": "markdown",
      "source": "<h1>Table of Contents<span class=\"tocSkip\"></span></h1>\n<div class=\"toc\"><ul class=\"toc-item\"><li><span><a href=\"#Set-up\" data-toc-modified-id=\"Set-up-1\"><span class=\"toc-item-num\">1&nbsp;&nbsp;</span>Set up</a></span><ul class=\"toc-item\"><li><span><a href=\"#Question-1\" data-toc-modified-id=\"Question-1-1.1\"><span class=\"toc-item-num\">1.1&nbsp;&nbsp;</span>Question 1</a></span><ul class=\"toc-item\"><li><span><a href=\"#Answer\" data-toc-modified-id=\"Answer-1.1.1\"><span class=\"toc-item-num\">1.1.1&nbsp;&nbsp;</span>Answer</a></span></li></ul></li><li><span><a href=\"#Question-2\" data-toc-modified-id=\"Question-2-1.2\"><span class=\"toc-item-num\">1.2&nbsp;&nbsp;</span>Question 2</a></span><ul class=\"toc-item\"><li><span><a href=\"#Answer\" data-toc-modified-id=\"Answer-1.2.1\"><span class=\"toc-item-num\">1.2.1&nbsp;&nbsp;</span>Answer</a></span></li></ul></li><li><span><a href=\"#Question-3\" data-toc-modified-id=\"Question-3-1.3\"><span class=\"toc-item-num\">1.3&nbsp;&nbsp;</span>Question 3</a></span><ul class=\"toc-item\"><li><span><a href=\"#Answer\" data-toc-modified-id=\"Answer-1.3.1\"><span class=\"toc-item-num\">1.3.1&nbsp;&nbsp;</span>Answer</a></span></li></ul></li><li><span><a href=\"#Question-4\" data-toc-modified-id=\"Question-4-1.4\"><span class=\"toc-item-num\">1.4&nbsp;&nbsp;</span>Question 4</a></span><ul class=\"toc-item\"><li><span><a href=\"#Answer\" data-toc-modified-id=\"Answer-1.4.1\"><span class=\"toc-item-num\">1.4.1&nbsp;&nbsp;</span>Answer</a></span></li></ul></li><li><span><a href=\"#Question-5\" data-toc-modified-id=\"Question-5-1.5\"><span class=\"toc-item-num\">1.5&nbsp;&nbsp;</span>Question 5</a></span><ul class=\"toc-item\"><li><span><a href=\"#Answer\" data-toc-modified-id=\"Answer-1.5.1\"><span class=\"toc-item-num\">1.5.1&nbsp;&nbsp;</span>Answer</a></span></li></ul></li><li><span><a href=\"#Question-6\" data-toc-modified-id=\"Question-6-1.6\"><span class=\"toc-item-num\">1.6&nbsp;&nbsp;</span>Question 6</a></span><ul class=\"toc-item\"><li><span><a href=\"#Answer\" data-toc-modified-id=\"Answer-1.6.1\"><span class=\"toc-item-num\">1.6.1&nbsp;&nbsp;</span>Answer</a></span></li></ul></li><li><span><a href=\"#Question-7\" data-toc-modified-id=\"Question-7-1.7\"><span class=\"toc-item-num\">1.7&nbsp;&nbsp;</span>Question 7</a></span><ul class=\"toc-item\"><li><span><a href=\"#Answer\" data-toc-modified-id=\"Answer-1.7.1\"><span class=\"toc-item-num\">1.7.1&nbsp;&nbsp;</span>Answer</a></span></li></ul></li><li><span><a href=\"#Question-8\" data-toc-modified-id=\"Question-8-1.8\"><span class=\"toc-item-num\">1.8&nbsp;&nbsp;</span>Question 8</a></span><ul class=\"toc-item\"><li><span><a href=\"#Answer\" data-toc-modified-id=\"Answer-1.8.1\"><span class=\"toc-item-num\">1.8.1&nbsp;&nbsp;</span>Answer</a></span></li></ul></li><li><span><a href=\"#Question-9\" data-toc-modified-id=\"Question-9-1.9\"><span class=\"toc-item-num\">1.9&nbsp;&nbsp;</span>Question 9</a></span><ul class=\"toc-item\"><li><span><a href=\"#Answer\" data-toc-modified-id=\"Answer-1.9.1\"><span class=\"toc-item-num\">1.9.1&nbsp;&nbsp;</span>Answer</a></span></li></ul></li><li><span><a href=\"#Question-10\" data-toc-modified-id=\"Question-10-1.10\"><span class=\"toc-item-num\">1.10&nbsp;&nbsp;</span>Question 10</a></span><ul class=\"toc-item\"><li><span><a href=\"#Answer\" data-toc-modified-id=\"Answer-1.10.1\"><span class=\"toc-item-num\">1.10.1&nbsp;&nbsp;</span>Answer</a></span></li></ul></li><li><span><a href=\"#Question-11\" data-toc-modified-id=\"Question-11-1.11\"><span class=\"toc-item-num\">1.11&nbsp;&nbsp;</span>Question 11</a></span><ul class=\"toc-item\"><li><span><a href=\"#Answer\" data-toc-modified-id=\"Answer-1.11.1\"><span class=\"toc-item-num\">1.11.1&nbsp;&nbsp;</span>Answer</a></span></li></ul></li><li><span><a href=\"#Question-12\" data-toc-modified-id=\"Question-12-1.12\"><span class=\"toc-item-num\">1.12&nbsp;&nbsp;</span>Question 12</a></span><ul class=\"toc-item\"><li><span><a href=\"#Answer\" data-toc-modified-id=\"Answer-1.12.1\"><span class=\"toc-item-num\">1.12.1&nbsp;&nbsp;</span>Answer</a></span></li></ul></li><li><span><a href=\"#Question-13\" data-toc-modified-id=\"Question-13-1.13\"><span class=\"toc-item-num\">1.13&nbsp;&nbsp;</span>Question 13</a></span><ul class=\"toc-item\"><li><span><a href=\"#Answer\" data-toc-modified-id=\"Answer-1.13.1\"><span class=\"toc-item-num\">1.13.1&nbsp;&nbsp;</span>Answer</a></span></li></ul></li><li><span><a href=\"#Question-14\" data-toc-modified-id=\"Question-14-1.14\"><span class=\"toc-item-num\">1.14&nbsp;&nbsp;</span>Question 14</a></span><ul class=\"toc-item\"><li><span><a href=\"#Answer\" data-toc-modified-id=\"Answer-1.14.1\"><span class=\"toc-item-num\">1.14.1&nbsp;&nbsp;</span>Answer</a></span></li></ul></li><li><span><a href=\"#Question-15\" data-toc-modified-id=\"Question-15-1.15\"><span class=\"toc-item-num\">1.15&nbsp;&nbsp;</span>Question 15</a></span><ul class=\"toc-item\"><li><span><a href=\"#Answer\" data-toc-modified-id=\"Answer-1.15.1\"><span class=\"toc-item-num\">1.15.1&nbsp;&nbsp;</span>Answer</a></span></li></ul></li><li><span><a href=\"#Question-16\" data-toc-modified-id=\"Question-16-1.16\"><span class=\"toc-item-num\">1.16&nbsp;&nbsp;</span>Question 16</a></span><ul class=\"toc-item\"><li><span><a href=\"#Answer\" data-toc-modified-id=\"Answer-1.16.1\"><span class=\"toc-item-num\">1.16.1&nbsp;&nbsp;</span>Answer</a></span></li></ul></li><li><span><a href=\"#Question-17\" data-toc-modified-id=\"Question-17-1.17\"><span class=\"toc-item-num\">1.17&nbsp;&nbsp;</span>Question 17</a></span><ul class=\"toc-item\"><li><span><a href=\"#Answer\" data-toc-modified-id=\"Answer-1.17.1\"><span class=\"toc-item-num\">1.17.1&nbsp;&nbsp;</span>Answer</a></span></li></ul></li><li><span><a href=\"#Question-18\" data-toc-modified-id=\"Question-18-1.18\"><span class=\"toc-item-num\">1.18&nbsp;&nbsp;</span>Question 18</a></span><ul class=\"toc-item\"><li><span><a href=\"#Answer\" data-toc-modified-id=\"Answer-1.18.1\"><span class=\"toc-item-num\">1.18.1&nbsp;&nbsp;</span>Answer</a></span></li></ul></li><li><span><a href=\"#Question-19\" data-toc-modified-id=\"Question-19-1.19\"><span class=\"toc-item-num\">1.19&nbsp;&nbsp;</span>Question 19</a></span><ul class=\"toc-item\"><li><span><a href=\"#Answer\" data-toc-modified-id=\"Answer-1.19.1\"><span class=\"toc-item-num\">1.19.1&nbsp;&nbsp;</span>Answer</a></span></li></ul></li><li><span><a href=\"#Question-20\" data-toc-modified-id=\"Question-20-1.20\"><span class=\"toc-item-num\">1.20&nbsp;&nbsp;</span>Question 20</a></span><ul class=\"toc-item\"><li><span><a href=\"#Answer\" data-toc-modified-id=\"Answer-1.20.1\"><span class=\"toc-item-num\">1.20.1&nbsp;&nbsp;</span>Answer</a></span></li></ul></li><li><span><a href=\"#Question-21\" data-toc-modified-id=\"Question-21-1.21\"><span class=\"toc-item-num\">1.21&nbsp;&nbsp;</span>Question 21</a></span><ul class=\"toc-item\"><li><span><a href=\"#Answer\" data-toc-modified-id=\"Answer-1.21.1\"><span class=\"toc-item-num\">1.21.1&nbsp;&nbsp;</span>Answer</a></span></li></ul></li><li><span><a href=\"#Question-22\" data-toc-modified-id=\"Question-22-1.22\"><span class=\"toc-item-num\">1.22&nbsp;&nbsp;</span>Question 22</a></span><ul class=\"toc-item\"><li><span><a href=\"#Answer\" data-toc-modified-id=\"Answer-1.22.1\"><span class=\"toc-item-num\">1.22.1&nbsp;&nbsp;</span>Answer</a></span></li></ul></li><li><span><a href=\"#Question-23\" data-toc-modified-id=\"Question-23-1.23\"><span class=\"toc-item-num\">1.23&nbsp;&nbsp;</span>Question 23</a></span><ul class=\"toc-item\"><li><span><a href=\"#Answer\" data-toc-modified-id=\"Answer-1.23.1\"><span class=\"toc-item-num\">1.23.1&nbsp;&nbsp;</span>Answer</a></span></li></ul></li><li><span><a href=\"#Question-24\" data-toc-modified-id=\"Question-24-1.24\"><span class=\"toc-item-num\">1.24&nbsp;&nbsp;</span>Question 24</a></span><ul class=\"toc-item\"><li><span><a href=\"#Answer\" data-toc-modified-id=\"Answer-1.24.1\"><span class=\"toc-item-num\">1.24.1&nbsp;&nbsp;</span>Answer</a></span></li></ul></li><li><span><a href=\"#Question-25\" data-toc-modified-id=\"Question-25-1.25\"><span class=\"toc-item-num\">1.25&nbsp;&nbsp;</span>Question 25</a></span><ul class=\"toc-item\"><li><span><a href=\"#Answer\" data-toc-modified-id=\"Answer-1.25.1\"><span class=\"toc-item-num\">1.25.1&nbsp;&nbsp;</span>Answer</a></span></li></ul></li><li><span><a href=\"#Question-26\" data-toc-modified-id=\"Question-26-1.26\"><span class=\"toc-item-num\">1.26&nbsp;&nbsp;</span>Question 26</a></span><ul class=\"toc-item\"><li><span><a href=\"#Answer\" data-toc-modified-id=\"Answer-1.26.1\"><span class=\"toc-item-num\">1.26.1&nbsp;&nbsp;</span>Answer</a></span></li></ul></li><li><span><a href=\"#Question-27\" data-toc-modified-id=\"Question-27-1.27\"><span class=\"toc-item-num\">1.27&nbsp;&nbsp;</span>Question 27</a></span><ul class=\"toc-item\"><li><span><a href=\"#Answer\" data-toc-modified-id=\"Answer-1.27.1\"><span class=\"toc-item-num\">1.27.1&nbsp;&nbsp;</span>Answer</a></span></li></ul></li><li><span><a href=\"#Question-28\" data-toc-modified-id=\"Question-28-1.28\"><span class=\"toc-item-num\">1.28&nbsp;&nbsp;</span>Question 28</a></span><ul class=\"toc-item\"><li><span><a href=\"#Answer\" data-toc-modified-id=\"Answer-1.28.1\"><span class=\"toc-item-num\">1.28.1&nbsp;&nbsp;</span>Answer</a></span></li></ul></li><li><span><a href=\"#Question-29\" data-toc-modified-id=\"Question-29-1.29\"><span class=\"toc-item-num\">1.29&nbsp;&nbsp;</span>Question 29</a></span><ul class=\"toc-item\"><li><span><a href=\"#Answer\" data-toc-modified-id=\"Answer-1.29.1\"><span class=\"toc-item-num\">1.29.1&nbsp;&nbsp;</span>Answer</a></span></li></ul></li><li><span><a href=\"#Question-30\" data-toc-modified-id=\"Question-30-1.30\"><span class=\"toc-item-num\">1.30&nbsp;&nbsp;</span>Question 30</a></span><ul class=\"toc-item\"><li><span><a href=\"#Answer\" data-toc-modified-id=\"Answer-1.30.1\"><span class=\"toc-item-num\">1.30.1&nbsp;&nbsp;</span>Answer</a></span></li></ul></li></ul></li></ul></div>",
      "metadata": {
        "toc": true
      },
      "id": "2fd53323"
    },
    {
      "cell_type": "markdown",
      "source": "# Set up\n\n**Jupyter Notebook** \n\nTo Install the classic Jupyter Notebook, run in your terminal / command prompt:\n\n*pip install notebook*\n\nTo run the notebook:\n\n*jupyter notebook*\n\n**JupyterLab**\n\nTo Install JupyterLab with pip:\n\n*pip install jupyterlab*\n\nOnce installed, launch JupyterLab with\n\n*jupyter lab*",
      "metadata": {},
      "id": "a976253a"
    },
    {
      "cell_type": "code",
      "source": "import sys\nvv = sys.version_info\nprint(vv)\nprint('version ' + '.'.join([str(x) for x in vv[0:3]]))",
      "metadata": {
        "trusted": true
      },
      "execution_count": null,
      "outputs": [
        {
          "name": "stdout",
          "text": "sys.version_info(major=3, minor=11, micro=3, releaselevel='final', serial=0)\nversion 3.11.3\n",
          "output_type": "stream"
        }
      ],
      "id": "e4dbce4d"
    },
    {
      "cell_type": "markdown",
      "source": "##  Question 1",
      "metadata": {},
      "id": "573058f1"
    },
    {
      "cell_type": "markdown",
      "source": "Write a print statement to print the mixed fraction 3 5/8 as a floating point number and as an integer.",
      "metadata": {},
      "id": "b46d23d4"
    },
    {
      "cell_type": "markdown",
      "source": "### Answer",
      "metadata": {},
      "id": "cebe753d"
    },
    {
      "cell_type": "markdown",
      "source": "##  Question 2",
      "metadata": {},
      "id": "f95d600d"
    },
    {
      "cell_type": "markdown",
      "source": "**Convert Between °C and °F.** Convert temperatures from one system to another.\n- Create a print statement to convert 18.5° C to °F. \n- Create a print statement to convert -4° F to °C.",
      "metadata": {},
      "id": "d6144b32"
    },
    {
      "cell_type": "markdown",
      "source": "### Answer",
      "metadata": {},
      "id": "681343fa"
    },
    {
      "cell_type": "markdown",
      "source": "##  Question 3",
      "metadata": {},
      "id": "12d64759"
    },
    {
      "cell_type": "markdown",
      "source": "Write a function that asks the user to enter a list of integers. Do the following:\n\n- Print the last item in the list.\n- Print the list in reverse order.\n- Print Yes if the list contains a 5 and No otherwise.\n- Print the number of fives in the list.\n- Remove the first and last items from the list, sort the remaining items, and print the result.\n- Print how many integers in the list are less than 5.",
      "metadata": {},
      "id": "c688cde8"
    },
    {
      "cell_type": "markdown",
      "source": "### Answer",
      "metadata": {},
      "id": "0a7213bf"
    },
    {
      "cell_type": "markdown",
      "source": "##  Question 4",
      "metadata": {},
      "id": "c7aeffb7"
    },
    {
      "cell_type": "markdown",
      "source": "Write a Python program which accepts the radius of a circle from the user and compute the area.",
      "metadata": {},
      "id": "3c654cdc"
    },
    {
      "cell_type": "markdown",
      "source": "### Answer\n",
      "metadata": {},
      "id": "ded300d8"
    },
    {
      "cell_type": "code",
      "source": "import math\n\nradius = float(input(\"Enter the radius of the circle: \"))\narea = math.pi * radius**2\n\nprint(f\"The area of the circle with radius {radius} is {area}\")",
      "metadata": {
        "trusted": true
      },
      "execution_count": 7,
      "outputs": [
        {
          "output_type": "stream",
          "name": "stdin",
          "text": "Enter the radius of the circle:  2\n"
        }
      ],
      "id": "cc0d59f5-d829-4e5e-a3b8-9791e3d97281"
    },
    {
      "cell_type": "markdown",
      "source": "##  Question 5",
      "metadata": {},
      "id": "c23848c7"
    },
    {
      "cell_type": "markdown",
      "source": "Write a Python program which accepts the user's first and last name and print them in reverse order with a space between them.",
      "metadata": {},
      "id": "a73923cd"
    },
    {
      "cell_type": "markdown",
      "source": "### Answer",
      "metadata": {},
      "id": "0f5569cb"
    },
    {
      "cell_type": "markdown",
      "source": "##  Question 6",
      "metadata": {},
      "id": "75baf389"
    },
    {
      "cell_type": "markdown",
      "source": "Write a Python program that accepts an integer (n) and computes the value of n+nn+nnn",
      "metadata": {},
      "id": "6fb6e3c9"
    },
    {
      "cell_type": "markdown",
      "source": "### Answer",
      "metadata": {},
      "id": "361e661f"
    },
    {
      "cell_type": "markdown",
      "source": "##  Question 7",
      "metadata": {},
      "id": "32f3e576"
    },
    {
      "cell_type": "markdown",
      "source": "A lot of cell phones have tip calculators. Write one. Ask the user for the price of the meal and the percent tip they want to leave. Then print both the tip amount and the total bill with the tip included.",
      "metadata": {},
      "id": "2cbb374c"
    },
    {
      "cell_type": "markdown",
      "source": "### Answer",
      "metadata": {},
      "id": "4bd3c08b"
    },
    {
      "cell_type": "markdown",
      "source": "##  Question 8",
      "metadata": {},
      "id": "d20ec66d"
    },
    {
      "cell_type": "markdown",
      "source": "Write a program that asks the user to enter three numbers: the day of birth, the month of birth and the year of birth (use three separate input statements). Print out the total number of days from birth.",
      "metadata": {},
      "id": "8ec7d50a"
    },
    {
      "cell_type": "markdown",
      "source": "### Answer",
      "metadata": {},
      "id": "9e032847"
    },
    {
      "cell_type": "code",
      "source": "import datetime\n\nday = int(input(\"Enter the day of birth: \"))\nmonth = int(input(\"Enter the month of birth: \"))\nyear = int(input(\"Enter the year of birth: \"))\n\ncurrent_date = datetime.datetime.now()\nbirthday = datetime.datetime(year, month, day)\n\ndelta = current_date - birthday\ntotal_days = delta.days\n\nprint(\"Total number of days from birth:\", total_days)",
      "metadata": {
        "trusted": true
      },
      "execution_count": null,
      "outputs": [],
      "id": "e1ea6a63-0557-4ba6-9564-ee14791689c3"
    },
    {
      "cell_type": "markdown",
      "source": "##  Question 9",
      "metadata": {},
      "id": "130f9f3f"
    },
    {
      "cell_type": "markdown",
      "source": "Write a program that asks the user to enter an angle between -180° and 180°. Using an expression with the modulo operator, convert the angle to its equivalent between 0° and 360°.",
      "metadata": {},
      "id": "bb487099"
    },
    {
      "cell_type": "markdown",
      "source": "### Answer",
      "metadata": {},
      "id": "0dd15256"
    },
    {
      "cell_type": "markdown",
      "source": "##  Question 10",
      "metadata": {},
      "id": "48b0e537"
    },
    {
      "cell_type": "markdown",
      "source": "Write a program that generates a random decimal number between 1 and 10 with two decimal places of accuracy.",
      "metadata": {},
      "id": "f54a3581"
    },
    {
      "cell_type": "markdown",
      "source": "### Answer",
      "metadata": {},
      "id": "33ba4e87"
    },
    {
      "cell_type": "markdown",
      "source": "##  Question 11",
      "metadata": {},
      "id": "fc111e34"
    },
    {
      "cell_type": "markdown",
      "source": "Write a program that asks the user to enter a power (non-negative integer number). Then find the last two digits of 2 raised to that power.",
      "metadata": {},
      "id": "31ce21a3"
    },
    {
      "cell_type": "markdown",
      "source": "### Answer",
      "metadata": {},
      "id": "ed983890"
    },
    {
      "cell_type": "markdown",
      "source": "##  Question 12",
      "metadata": {},
      "id": "2274add3"
    },
    {
      "cell_type": "markdown",
      "source": "Write a program that asks the user how many credits they have taken. If they have taken 23 or less, print that the student is a freshman. If they have taken between 24 and 53, print that they are a sophomore. The range for juniors is 54 to 83, and for seniors it is 84 and over.",
      "metadata": {},
      "id": "22250473"
    },
    {
      "cell_type": "markdown",
      "source": "### Answer",
      "metadata": {},
      "id": "558215b3"
    },
    {
      "cell_type": "code",
      "source": "credits = int(input(\"Enter the number of credits taken: \"))\n\nif credits <= 23:\n    print(\"The student is a freshman.\")\nelif 24 <= credits <= 53:\n    print(\"The student is a sophomore.\")\nelif 54 <= credits <= 83:\n    print(\"The student is a junior.\")\nelse:\n    print(\"The student is a senior.\")",
      "metadata": {},
      "execution_count": null,
      "outputs": [],
      "id": "b39ded79-746c-4e27-a42f-5634fa45422a"
    },
    {
      "cell_type": "markdown",
      "source": "##  Question 13",
      "metadata": {},
      "id": "35fd7661"
    },
    {
      "cell_type": "markdown",
      "source": "Write a program that asks the user to enter a length in centimeters. If the user enters a negative length, the program should tell the user that the entry is invalid. Otherwise, the program should convert the length to inches and print out the result. There are 2.54 centimeters in an inch.",
      "metadata": {},
      "id": "33b49de2"
    },
    {
      "cell_type": "markdown",
      "source": "### Answer",
      "metadata": {},
      "id": "d2c6af21"
    },
    {
      "cell_type": "markdown",
      "source": "##  Question 14",
      "metadata": {},
      "id": "692d6865"
    },
    {
      "cell_type": "markdown",
      "source": "Write a program that lets the user play Rock-Paper-Scissors against the computer. There should be three rounds, and after those three rounds, your program should print out who won and lost or that there is a tie.",
      "metadata": {},
      "id": "9e7cd44c"
    },
    {
      "cell_type": "markdown",
      "source": "### Answer",
      "metadata": {},
      "id": "37c36c57"
    },
    {
      "cell_type": "markdown",
      "source": "##  Question 15",
      "metadata": {},
      "id": "b224d1b3"
    },
    {
      "cell_type": "markdown",
      "source": "A store charges \\\\$12 per item if you buy less than 10 items. If you buy between 10 and 99 items, the cost is \\\\$10 per item. If you buy 100 or more items, the cost is \\\\$7 per item. Write a program that asks the user how many items they are buying and prints the total cost.",
      "metadata": {},
      "id": "3852288c"
    },
    {
      "cell_type": "markdown",
      "source": "### Answer",
      "metadata": {},
      "id": "62c5e5c5"
    },
    {
      "cell_type": "markdown",
      "source": "##  Question 16",
      "metadata": {},
      "id": "1da7280c"
    },
    {
      "cell_type": "markdown",
      "source": "John has 300 at the start, he saves 100 per month, and 500 every 6 months. Write a function returning his savings after N months. (N is an input from the user)",
      "metadata": {},
      "id": "0a46f295"
    },
    {
      "cell_type": "code",
      "source": "def calculate_savings(N):\n    start_balance = 300\n    monthly_savings = 100\n    semi_annual_savings = 500\n    \n    full_periods = N // 6\n    remaining_months = N % 6\n    full_period_savings = full_periods * (semi_annual_savings + (monthly_savings * 6))\n    remaining_savings = start_balance + (monthly_savings * remaining_months)\n    total_savings = full_period_savings + remaining_savings\n\n    return total_savings\n\nN = int(input(\"Enter the number of months (N): \"))\nsavings = calculate_savings(N)\nprint(f\"John's savings after {N} months is ${savings}\")\n",
      "metadata": {
        "trusted": true
      },
      "execution_count": null,
      "outputs": [],
      "id": "54ac4651-cd41-45ba-b84c-1bdcb90d1124"
    },
    {
      "cell_type": "markdown",
      "source": "##  Question 17",
      "metadata": {},
      "id": "1fc69436"
    },
    {
      "cell_type": "markdown",
      "source": "Calculate number of business days between two dates using datetime module.",
      "metadata": {},
      "id": "c74efb86"
    },
    {
      "cell_type": "markdown",
      "source": "### Answer",
      "metadata": {},
      "id": "91bc2e3c"
    },
    {
      "cell_type": "markdown",
      "source": "## Question 18",
      "metadata": {},
      "id": "fc435814"
    },
    {
      "cell_type": "markdown",
      "source": "Write a function that reverse the tuple.",
      "metadata": {},
      "id": "797581d5"
    },
    {
      "cell_type": "markdown",
      "source": "### Answer",
      "metadata": {},
      "id": "494255e2"
    },
    {
      "cell_type": "markdown",
      "source": "## Question 19",
      "metadata": {},
      "id": "6b7683fe"
    },
    {
      "cell_type": "markdown",
      "source": "Sort a tuple of tuples by 2nd item. For example, the output for the tuple $(('a', 23),('b', 37),('c', 11), ('d',29))$ should be $(('c', 11), ('a', 23), ('d', 29), ('b', 37))$",
      "metadata": {},
      "id": "7afb0baf"
    },
    {
      "cell_type": "markdown",
      "source": "### Answer",
      "metadata": {},
      "id": "78e54090"
    },
    {
      "cell_type": "markdown",
      "source": "## Question 20",
      "metadata": {},
      "id": "026bcacf"
    },
    {
      "cell_type": "markdown",
      "source": "Write a function that removes empty strings from the list of strings.",
      "metadata": {},
      "id": "e6364522"
    },
    {
      "cell_type": "markdown",
      "source": "### Answer",
      "metadata": {},
      "id": "0a255e09"
    },
    {
      "cell_type": "code",
      "source": "def remove_empty_strings(input_list):\n    # Use list comprehension to filter out empty strings\n    result_list = [string for string in input_list if string != \"\"]\n    return result_list\n\n# Example:\ninput_list = [\"Hello\", \"\", \"World\", \"\", \"Python\"]\nfiltered_list = remove_empty_strings(input_list)\nprint(filtered_list)",
      "metadata": {},
      "execution_count": null,
      "outputs": [],
      "id": "5b339d98-8a3a-4071-a304-7c89c3b65e2d"
    },
    {
      "cell_type": "markdown",
      "source": "## Question 21",
      "metadata": {},
      "id": "98967b66"
    },
    {
      "cell_type": "markdown",
      "source": "Calculate number of distinct characters in a string using a for loop.",
      "metadata": {},
      "id": "2274ae8d"
    },
    {
      "cell_type": "markdown",
      "source": "### Answer",
      "metadata": {},
      "id": "0bab76a2"
    },
    {
      "cell_type": "markdown",
      "source": "## Question 22",
      "metadata": {},
      "id": "1e5777c0"
    },
    {
      "cell_type": "markdown",
      "source": "You are given an array prices where $prices[i]$ is the price of a given stock on the $i$th day.\n\nYou want to maximize your profit by choosing a single day to buy one stock and choosing a different day in the future to sell that stock.\n\nReturn the maximum profit you can achieve from this transaction. If you cannot achieve any profit, return $0$.\n\n*Example 1:*\n\nInput: prices = [7,1,5,3,6,4]\n\nOutput: 5\n\nExplanation: Buy on day 2 (price = 1) and sell on day 5 (price = 6), profit = 6-1 = 5.\nNote that buying on day 2 and selling on day 1 is not allowed because you must buy before you sell.",
      "metadata": {},
      "id": "cce6010e"
    },
    {
      "cell_type": "markdown",
      "source": "### Answer",
      "metadata": {},
      "id": "668dee3e"
    },
    {
      "cell_type": "markdown",
      "source": "## Question 23\n\nWrite a program to find the key of the maximum value in a dictionary. \n\nExample: original dictionary elements:\n\n{'a': 25, 'b': 48, 'c': 90, 'd': 5, 'e':90}\n\nFinds the keys of the maximum value of the said dictionary:\n\n['c','e']",
      "metadata": {},
      "id": "4c03bf98"
    },
    {
      "cell_type": "markdown",
      "source": "### Answer",
      "metadata": {},
      "id": "bb81eacf"
    },
    {
      "cell_type": "markdown",
      "source": "## Question 24\n\nA simple way of encrypting a message is to rearrange its characters. One way to rearrange the characters is to pick out the characters at even indices, put them first in the encrypted string, and follow them by the odd characters. For example, the string message would be encrypted as msaeesg because the even characters are m, s, a, e (at indices 0, 2, 4, and 6) and the odd characters are e, s, g (at indices 1, 3, and 5).\n\n1. Write a function that asks the user for a string and uses this method to encrypt the string.\n\n2. Write a function that decrypts a string that was encrypted with this method.",
      "metadata": {},
      "id": "df28ba15"
    },
    {
      "cell_type": "markdown",
      "source": "### Answer",
      "metadata": {},
      "id": "0db2effb"
    },
    {
      "cell_type": "code",
      "source": "def encrypt_string(message):\n    even_chars = message[0::2]  # Get characters at even indices\n    odd_chars = message[1::2]   # Get characters at odd indices\n    encrypted_message = even_chars + odd_chars\n    return encrypted_message\n\nuser_input = input(\"Enter a string to encrypt: \")\nencrypted_message = encrypt_string(user_input)\nprint(\"Encrypted message:\", encrypted_message)\n\ndef decrypt_string(encrypted_message):\n    mid = len(encrypted_message) // 2\n    even_chars = encrypted_message[:mid]\n    odd_chars = encrypted_message[mid:]\n    decrypted_message = ''.join([even_chars[i] + odd_chars[i] for i in range(min(len(even_chars), len(odd_chars)))])\n    if len(even_chars) > len(odd_chars):\n        decrypted_message += even_chars[len(odd_chars):]\n    elif len(odd_chars) > len(even_chars):\n        decrypted_message += odd_chars[len(even_chars):]\n    return decrypted_message\n\ndecrypted_message = decrypt_string(encrypted_message)\nprint(\"Decrypted message:\", decrypted_message)\n",
      "metadata": {
        "trusted": true
      },
      "execution_count": null,
      "outputs": [],
      "id": "cbf52b6e-2a8a-4e97-94ed-a12f28770c9b"
    },
    {
      "cell_type": "markdown",
      "source": "## Question 25\n\nWrite a function that for 2 given dictionaries find their common keys.",
      "metadata": {},
      "id": "1c38b628"
    },
    {
      "cell_type": "markdown",
      "source": "### Answer",
      "metadata": {},
      "id": "093a86f3"
    },
    {
      "cell_type": "markdown",
      "source": "## Question 26\n\nGiven two strings $s$ and $t$, return *True* if $t$ is an anagram of $s$, and False otherwise.\n\nAn Anagram is a word or phrase formed by rearranging the letters of a different word or phrase, typically using all the original letters exactly once.",
      "metadata": {},
      "id": "590f8c61"
    },
    {
      "cell_type": "markdown",
      "source": "### Answer",
      "metadata": {},
      "id": "10d52659"
    },
    {
      "cell_type": "markdown",
      "source": "## Question 27\n\nGiven an array of integers nums and an integer target, return indices of the two numbers such that they add up to target.\n\nYou may assume that each input would have exactly one solution, and you may not use the same element twice.\n\n*Example:*\n\nInput: nums = [1,8,12,5], target = 13\n\nOutput: [8,5]\n\nExplanation: Because nums[1] + nums[3] == 13, we return [1, 3].",
      "metadata": {},
      "id": "1be64bfe"
    },
    {
      "cell_type": "markdown",
      "source": "### Answer",
      "metadata": {},
      "id": "0c4264ca"
    },
    {
      "cell_type": "markdown",
      "source": "## Question 28\n\nGiven an integer array nums and an integer $k$, return the $k$ most frequent elements.\n\n*Example 1:*\n\nInput: nums = [1,1,1,2,2,3], k = 2\n\nOutput: [1,2]",
      "metadata": {},
      "id": "95206bbd"
    },
    {
      "cell_type": "code",
      "source": "def k_most_frequent(nums, k):\n    counts = {}\n    \n    for num in nums:\n        if num in counts:\n            counts[num] += 1\n        else:\n            counts[num] = 1\n\n    sorted_counts = sorted(counts.items(), key=lambda x: -x[1])\n\n    result = [item[0] for item in sorted_counts[:k]]\n\n    return result\n\nnums = [1, 1, 1, 2, 2, 3]\nk = 2\nresult = k_most_frequent(nums, k)\nprint(result)\n",
      "metadata": {},
      "execution_count": null,
      "outputs": [],
      "id": "2ee679f4-4116-4381-9114-063be73fba0f"
    },
    {
      "cell_type": "markdown",
      "source": "### Answer",
      "metadata": {},
      "id": "c1953375"
    },
    {
      "cell_type": "markdown",
      "source": "## Question 29\n\nGiven an integer array $nums$, return all the triplets $[nums[i], nums[j], nums[k]]$ such that $i != j$, $i != k$, and $j != k$, and $nums[i] + nums[j] + nums[k] == 0.$\n\n*Example 1:*\n\nInput: nums = [-1,0,1,2,-1,-4]\n\nOutput: [[-1,-1,2],[-1,0,1]]\n\nExplanation: \n\nnums[0] + nums[1] + nums[2] = (-1) + 0 + 1 = 0.\n\nnums[1] + nums[2] + nums[4] = 0 + 1 + (-1) = 0.\n\nnums[0] + nums[3] + nums[4] = (-1) + 2 + (-1) = 0.\n\nThe distinct triplets are [-1,0,1] and [-1,-1,2].",
      "metadata": {},
      "id": "9f13d3ca"
    },
    {
      "cell_type": "markdown",
      "source": "### Answer",
      "metadata": {},
      "id": "c34b5f25"
    },
    {
      "cell_type": "markdown",
      "source": "## Question 30\n\nYou are given an $m x n$ integer matrix matrix with the following two properties:\n\n- Each row is sorted in non-decreasing order.\n\n- The first integer of each row is greater than the last integer of the previous row.\n\nGiven an integer target, return True if target is in matrix or false otherwise.\n\nYou must write a solution in $O(log(m * n))$ time complexity.\n\n*Example:*\n\nInput: matrix = [[1,3,5,7],[10,11,16,20],[23,30,34,60]], target = 3\n\nOutput: true",
      "metadata": {},
      "id": "09ad72f0"
    },
    {
      "cell_type": "code",
      "source": "from IPython.display import Image\nImage(\"mat.jpg\")",
      "metadata": {
        "trusted": true
      },
      "execution_count": null,
      "outputs": [
        {
          "execution_count": 3,
          "output_type": "execute_result",
          "data": {
            "text/plain": "<IPython.core.display.Image object>"
          },
          "metadata": {}
        },
        {
          "ename": "<class 'FileNotFoundError'>",
          "evalue": "No such file or directory: 'mat.jpg'",
          "traceback": [
            "\u001b[0;31m---------------------------------------------------------------------------\u001b[0m",
            "\u001b[0;31mTypeError\u001b[0m                                 Traceback (most recent call last)",
            "File \u001b[0;32m/lib/python3.11/site-packages/IPython/core/display.py:1045\u001b[0m, in \u001b[0;36mImage._data_and_metadata\u001b[0;34m(self, always_both)\u001b[0m\n\u001b[1;32m   1044\u001b[0m \u001b[38;5;28;01mtry\u001b[39;00m:\n\u001b[0;32m-> 1045\u001b[0m     b64_data \u001b[38;5;241m=\u001b[39m \u001b[43mb2a_base64\u001b[49m\u001b[43m(\u001b[49m\u001b[38;5;28;43mself\u001b[39;49m\u001b[38;5;241;43m.\u001b[39;49m\u001b[43mdata\u001b[49m\u001b[43m,\u001b[49m\u001b[43m \u001b[49m\u001b[43mnewline\u001b[49m\u001b[38;5;241;43m=\u001b[39;49m\u001b[38;5;28;43;01mFalse\u001b[39;49;00m\u001b[43m)\u001b[49m\u001b[38;5;241m.\u001b[39mdecode(\u001b[38;5;124m\"\u001b[39m\u001b[38;5;124mascii\u001b[39m\u001b[38;5;124m\"\u001b[39m)\n\u001b[1;32m   1046\u001b[0m \u001b[38;5;28;01mexcept\u001b[39;00m \u001b[38;5;167;01mTypeError\u001b[39;00m \u001b[38;5;28;01mas\u001b[39;00m e:\n",
            "\u001b[0;31mTypeError\u001b[0m: a bytes-like object is required, not 'str'",
            "\nThe above exception was the direct cause of the following exception:\n",
            "\u001b[0;31mFileNotFoundError\u001b[0m                         Traceback (most recent call last)",
            "File \u001b[0;32m/lib/python3.11/site-packages/IPython/core/formatters.py:344\u001b[0m, in \u001b[0;36mBaseFormatter.__call__\u001b[0;34m(self, obj)\u001b[0m\n\u001b[1;32m    342\u001b[0m     method \u001b[38;5;241m=\u001b[39m get_real_method(obj, \u001b[38;5;28mself\u001b[39m\u001b[38;5;241m.\u001b[39mprint_method)\n\u001b[1;32m    343\u001b[0m     \u001b[38;5;28;01mif\u001b[39;00m method \u001b[38;5;129;01mis\u001b[39;00m \u001b[38;5;129;01mnot\u001b[39;00m \u001b[38;5;28;01mNone\u001b[39;00m:\n\u001b[0;32m--> 344\u001b[0m         \u001b[38;5;28;01mreturn\u001b[39;00m \u001b[43mmethod\u001b[49m\u001b[43m(\u001b[49m\u001b[43m)\u001b[49m\n\u001b[1;32m    345\u001b[0m     \u001b[38;5;28;01mreturn\u001b[39;00m \u001b[38;5;28;01mNone\u001b[39;00m\n\u001b[1;32m    346\u001b[0m \u001b[38;5;28;01melse\u001b[39;00m:\n",
            "File \u001b[0;32m/lib/python3.11/site-packages/IPython/core/display.py:1067\u001b[0m, in \u001b[0;36mImage._repr_png_\u001b[0;34m(self)\u001b[0m\n\u001b[1;32m   1065\u001b[0m \u001b[38;5;28;01mdef\u001b[39;00m \u001b[38;5;21m_repr_png_\u001b[39m(\u001b[38;5;28mself\u001b[39m):\n\u001b[1;32m   1066\u001b[0m     \u001b[38;5;28;01mif\u001b[39;00m \u001b[38;5;28mself\u001b[39m\u001b[38;5;241m.\u001b[39membed \u001b[38;5;129;01mand\u001b[39;00m \u001b[38;5;28mself\u001b[39m\u001b[38;5;241m.\u001b[39mformat \u001b[38;5;241m==\u001b[39m \u001b[38;5;28mself\u001b[39m\u001b[38;5;241m.\u001b[39m_FMT_PNG:\n\u001b[0;32m-> 1067\u001b[0m         \u001b[38;5;28;01mreturn\u001b[39;00m \u001b[38;5;28;43mself\u001b[39;49m\u001b[38;5;241;43m.\u001b[39;49m\u001b[43m_data_and_metadata\u001b[49m\u001b[43m(\u001b[49m\u001b[43m)\u001b[49m\n",
            "File \u001b[0;32m/lib/python3.11/site-packages/IPython/core/display.py:1047\u001b[0m, in \u001b[0;36mImage._data_and_metadata\u001b[0;34m(self, always_both)\u001b[0m\n\u001b[1;32m   1045\u001b[0m     b64_data \u001b[38;5;241m=\u001b[39m b2a_base64(\u001b[38;5;28mself\u001b[39m\u001b[38;5;241m.\u001b[39mdata, newline\u001b[38;5;241m=\u001b[39m\u001b[38;5;28;01mFalse\u001b[39;00m)\u001b[38;5;241m.\u001b[39mdecode(\u001b[38;5;124m\"\u001b[39m\u001b[38;5;124mascii\u001b[39m\u001b[38;5;124m\"\u001b[39m)\n\u001b[1;32m   1046\u001b[0m \u001b[38;5;28;01mexcept\u001b[39;00m \u001b[38;5;167;01mTypeError\u001b[39;00m \u001b[38;5;28;01mas\u001b[39;00m e:\n\u001b[0;32m-> 1047\u001b[0m     \u001b[38;5;28;01mraise\u001b[39;00m \u001b[38;5;167;01mFileNotFoundError\u001b[39;00m(\n\u001b[1;32m   1048\u001b[0m         \u001b[38;5;124m\"\u001b[39m\u001b[38;5;124mNo such file or directory: \u001b[39m\u001b[38;5;124m'\u001b[39m\u001b[38;5;132;01m%s\u001b[39;00m\u001b[38;5;124m'\u001b[39m\u001b[38;5;124m\"\u001b[39m \u001b[38;5;241m%\u001b[39m (\u001b[38;5;28mself\u001b[39m\u001b[38;5;241m.\u001b[39mdata)) \u001b[38;5;28;01mfrom\u001b[39;00m \u001b[38;5;21;01me\u001b[39;00m\n\u001b[1;32m   1049\u001b[0m md \u001b[38;5;241m=\u001b[39m {}\n\u001b[1;32m   1050\u001b[0m \u001b[38;5;28;01mif\u001b[39;00m \u001b[38;5;28mself\u001b[39m\u001b[38;5;241m.\u001b[39mmetadata:\n",
            "\u001b[0;31mFileNotFoundError\u001b[0m: No such file or directory: 'mat.jpg'"
          ],
          "output_type": "error"
        }
      ],
      "id": "89c7f04f"
    },
    {
      "cell_type": "markdown",
      "source": "### Answer",
      "metadata": {},
      "id": "d3731ed4"
    },
    {
      "cell_type": "code",
      "source": "",
      "metadata": {},
      "execution_count": null,
      "outputs": [],
      "id": "ba78b6d5"
    }
  ]
}